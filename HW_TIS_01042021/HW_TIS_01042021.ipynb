{
 "cells": [
  {
   "cell_type": "markdown",
   "metadata": {},
   "source": [
    "## Домашнее задание по блоку 01.04.2021. Случайные события и случайные величины\n",
    "### Тихонова Инна"
   ]
  },
  {
   "cell_type": "code",
   "execution_count": 1,
   "metadata": {},
   "outputs": [],
   "source": [
    "import pandas as pd\n",
    "import numpy as np"
   ]
  },
  {
   "cell_type": "markdown",
   "metadata": {},
   "source": [
    "Смоделировать игру против лотерейного автомата типа “777”. Игрок платит 1 руб., после чего выпадает случайное целое число, равномерно распределенное от 0 до 999. При некоторых значениях числа игрок получает выигрыш:\n",
    " - 777: 200 руб.\n",
    " - 999: 100 руб.\n",
    " - 555: 50 руб.\n",
    " - 333: 15 руб.\n",
    " - 111: 10 руб.\n",
    " - *77: 5 руб.\n",
    " - **7: 3 руб.\n",
    " - *00: 2 руб.\n",
    " - **0: 1 руб.\n",
    "\n",
    "1. Выгодна ли игра игроку?\n",
    "2. Сколько в среднем приобретает или теряет игрок за одну игру?"
   ]
  },
  {
   "cell_type": "markdown",
   "metadata": {},
   "source": [
    "Рассчитаем вероятность выигрыша и средний выигрыш игрока по методу Монте-Карло:"
   ]
  },
  {
   "cell_type": "code",
   "execution_count": 2,
   "metadata": {},
   "outputs": [],
   "source": [
    "def monte_carlo_n(trials, payment=0):\n",
    "\n",
    "    monte_carlo = []\n",
    "    successes = 0\n",
    "    successes_more_1 = 0\n",
    "\n",
    "    for i in range(trials):\n",
    "\n",
    "        random_score = np.random.randint(0, 1000)\n",
    "        outcome = 0\n",
    "\n",
    "        if random_score == 777:\n",
    "            outcome = 200\n",
    "        elif random_score == 999:\n",
    "            outcome = 100\n",
    "        elif random_score == 555: \n",
    "            outcome = 50\n",
    "        elif random_score == 333:\n",
    "            outcome = 15\n",
    "        elif random_score == 111:  \n",
    "            outcome = 10\n",
    "\n",
    "        elif random_score % 100 == 77:  \n",
    "            outcome = 5\n",
    "        elif random_score % 10 == 7:  \n",
    "            outcome = 3 \n",
    "   \n",
    "        elif random_score % 100 == 0:  \n",
    "            outcome = 2 \n",
    "        elif random_score % 10 == 0:     \n",
    "            outcome = 1 \n",
    "\n",
    "        if outcome != 0:\n",
    "            successes += 1\n",
    "        if outcome > 1:\n",
    "            successes_more_1 += 1    \n",
    "            \n",
    "        monte_carlo.append(outcome + payment)    \n",
    "\n",
    "\n",
    "    print(\"Вероятность выигрыша ненулевой суммы за 1 ход: \", successes / trials)\n",
    "    print(\"Вероятность выигрыша суммы более 1 рубля за 1 ход: \", successes_more_1 / trials)\n",
    "    \n",
    "    monte_carlo = pd.DataFrame(columns=['data'], data=monte_carlo)\n",
    "    return monte_carlo\n",
    "    "
   ]
  },
  {
   "cell_type": "markdown",
   "metadata": {},
   "source": [
    "Проведем 1000 экспериментов - по количеству возможных исходов игры:"
   ]
  },
  {
   "cell_type": "code",
   "execution_count": 3,
   "metadata": {},
   "outputs": [
    {
     "name": "stdout",
     "output_type": "stream",
     "text": [
      "Вероятность выигрыша ненулевой суммы за 1 ход:  0.216\n",
      "Вероятность выигрыша суммы более 1 рубля за 1 ход:  0.119\n"
     ]
    }
   ],
   "source": [
    "monte_carlo = monte_carlo_n(1000, -1)"
   ]
  },
  {
   "cell_type": "markdown",
   "metadata": {},
   "source": [
    "Получаем, что вероятность выиграть хоть что-то - примерно 1 / 5. При этом вероятность выиграть сумму более 1 рубля - чуть больше 1 / 10.\n",
    "\n",
    "Посчитаем средний и суммарный выигрыш игрока за эти 1000 ходов:"
   ]
  },
  {
   "cell_type": "code",
   "execution_count": 4,
   "metadata": {},
   "outputs": [
    {
     "name": "stdout",
     "output_type": "stream",
     "text": [
      "data   -0.248\n",
      "dtype: float64\n"
     ]
    }
   ],
   "source": [
    "print(np.mean(monte_carlo))"
   ]
  },
  {
   "cell_type": "code",
   "execution_count": 5,
   "metadata": {},
   "outputs": [
    {
     "data": {
      "text/plain": [
       "data   -248\n",
       "dtype: int64"
      ]
     },
     "execution_count": 5,
     "metadata": {},
     "output_type": "execute_result"
    }
   ],
   "source": [
    "monte_carlo.sum()"
   ]
  },
  {
   "cell_type": "markdown",
   "metadata": {},
   "source": [
    "В среднем игрок теряет за игру несколько копеек (с учетом уплаты 1 рубля). А суммарно теряет даже те небольшие деньги, которые удалось выиграть и уходит в минус."
   ]
  },
  {
   "cell_type": "markdown",
   "metadata": {},
   "source": [
    "Посмотрим общие характеристики полученного массива:"
   ]
  },
  {
   "cell_type": "code",
   "execution_count": 6,
   "metadata": {},
   "outputs": [
    {
     "data": {
      "text/html": [
       "<div>\n",
       "<style scoped>\n",
       "    .dataframe tbody tr th:only-of-type {\n",
       "        vertical-align: middle;\n",
       "    }\n",
       "\n",
       "    .dataframe tbody tr th {\n",
       "        vertical-align: top;\n",
       "    }\n",
       "\n",
       "    .dataframe thead th {\n",
       "        text-align: right;\n",
       "    }\n",
       "</style>\n",
       "<table border=\"1\" class=\"dataframe\">\n",
       "  <thead>\n",
       "    <tr style=\"text-align: right;\">\n",
       "      <th></th>\n",
       "      <th>count</th>\n",
       "      <th>mean</th>\n",
       "      <th>std</th>\n",
       "      <th>min</th>\n",
       "      <th>25%</th>\n",
       "      <th>50%</th>\n",
       "      <th>75%</th>\n",
       "      <th>max</th>\n",
       "    </tr>\n",
       "  </thead>\n",
       "  <tbody>\n",
       "    <tr>\n",
       "      <th>data</th>\n",
       "      <td>1000.0</td>\n",
       "      <td>-0.248</td>\n",
       "      <td>5.540866</td>\n",
       "      <td>-1.0</td>\n",
       "      <td>-1.0</td>\n",
       "      <td>-1.0</td>\n",
       "      <td>-1.0</td>\n",
       "      <td>99.0</td>\n",
       "    </tr>\n",
       "  </tbody>\n",
       "</table>\n",
       "</div>"
      ],
      "text/plain": [
       "       count   mean       std  min  25%  50%  75%   max\n",
       "data  1000.0 -0.248  5.540866 -1.0 -1.0 -1.0 -1.0  99.0"
      ]
     },
     "execution_count": 6,
     "metadata": {},
     "output_type": "execute_result"
    }
   ],
   "source": [
    "monte_carlo.describe().T"
   ]
  },
  {
   "cell_type": "markdown",
   "metadata": {},
   "source": [
    "Видим, что максимальное значение = 99 рублей (100 рублей минус 1 рубль за игру), т.е. нам удалось выиграть почти максимальную сумму. При этом все остальные показатели говорят о неравномерности распределения: 25, 50 и 75% квартили находятся на -1 (0 рублей минус 1 рубль за игру)."
   ]
  },
  {
   "cell_type": "markdown",
   "metadata": {},
   "source": [
    "Проверим все то же самое, но на большем количестве попыток:"
   ]
  },
  {
   "cell_type": "code",
   "execution_count": 7,
   "metadata": {},
   "outputs": [
    {
     "name": "stdout",
     "output_type": "stream",
     "text": [
      "Вероятность выигрыша ненулевой суммы за 1 ход:  0.203947\n",
      "Вероятность выигрыша суммы более 1 рубля за 1 ход:  0.114168\n"
     ]
    }
   ],
   "source": [
    "monte_carlo = monte_carlo_n(1000000, -1)"
   ]
  },
  {
   "cell_type": "markdown",
   "metadata": {},
   "source": [
    "Снова получаем вероятность выигрыть хоть что-то равной 1 / 5, а вероятность выиграть сумму более 1 рубля около 1 / 10.\n",
    "\n",
    "Посчитаем средний и суммарный выигрыш игрока за эти 1 000 000 ходов:"
   ]
  },
  {
   "cell_type": "code",
   "execution_count": 8,
   "metadata": {},
   "outputs": [
    {
     "name": "stdout",
     "output_type": "stream",
     "text": [
      "data   -0.207189\n",
      "dtype: float64\n"
     ]
    }
   ],
   "source": [
    "print(np.mean(monte_carlo))"
   ]
  },
  {
   "cell_type": "code",
   "execution_count": 9,
   "metadata": {},
   "outputs": [
    {
     "data": {
      "text/plain": [
       "data   -207189\n",
       "dtype: int64"
      ]
     },
     "execution_count": 9,
     "metadata": {},
     "output_type": "execute_result"
    }
   ],
   "source": [
    "monte_carlo.sum()"
   ]
  },
  {
   "cell_type": "markdown",
   "metadata": {},
   "source": [
    "Снова в минусе, хотя и суммы немного другие. Смотрим общие характеристики:"
   ]
  },
  {
   "cell_type": "code",
   "execution_count": 10,
   "metadata": {},
   "outputs": [
    {
     "data": {
      "text/html": [
       "<div>\n",
       "<style scoped>\n",
       "    .dataframe tbody tr th:only-of-type {\n",
       "        vertical-align: middle;\n",
       "    }\n",
       "\n",
       "    .dataframe tbody tr th {\n",
       "        vertical-align: top;\n",
       "    }\n",
       "\n",
       "    .dataframe thead th {\n",
       "        text-align: right;\n",
       "    }\n",
       "</style>\n",
       "<table border=\"1\" class=\"dataframe\">\n",
       "  <thead>\n",
       "    <tr style=\"text-align: right;\">\n",
       "      <th></th>\n",
       "      <th>count</th>\n",
       "      <th>mean</th>\n",
       "      <th>std</th>\n",
       "      <th>min</th>\n",
       "      <th>25%</th>\n",
       "      <th>50%</th>\n",
       "      <th>75%</th>\n",
       "      <th>max</th>\n",
       "    </tr>\n",
       "  </thead>\n",
       "  <tbody>\n",
       "    <tr>\n",
       "      <th>data</th>\n",
       "      <td>1000000.0</td>\n",
       "      <td>-0.207189</td>\n",
       "      <td>7.196885</td>\n",
       "      <td>-1.0</td>\n",
       "      <td>-1.0</td>\n",
       "      <td>-1.0</td>\n",
       "      <td>-1.0</td>\n",
       "      <td>199.0</td>\n",
       "    </tr>\n",
       "  </tbody>\n",
       "</table>\n",
       "</div>"
      ],
      "text/plain": [
       "          count      mean       std  min  25%  50%  75%    max\n",
       "data  1000000.0 -0.207189  7.196885 -1.0 -1.0 -1.0 -1.0  199.0"
      ]
     },
     "execution_count": 10,
     "metadata": {},
     "output_type": "execute_result"
    }
   ],
   "source": [
    "monte_carlo.describe().T"
   ]
  },
  {
   "cell_type": "markdown",
   "metadata": {},
   "source": [
    "Ничего не поменялось: ни среднее, ни квартили. Почти всегда выигрыш игрока будет равен -1 (0 рублей минус 1 рубль за игру)."
   ]
  },
  {
   "cell_type": "markdown",
   "metadata": {},
   "source": [
    "Посчитаем теоретическую вероятность выигрыша по формуле полной вероятности:"
   ]
  },
  {
   "cell_type": "code",
   "execution_count": 11,
   "metadata": {},
   "outputs": [
    {
     "name": "stdout",
     "output_type": "stream",
     "text": [
      "Теоретическая вероятность выигрыша ненулевой суммы:  0.20500000000000002\n",
      "Теоретическая вероятность выигрыша суммы более 1 рубля:  0.115\n"
     ]
    }
   ],
   "source": [
    "#событие A - выиграли любую ненулевую сумму\n",
    "p_a = 0\n",
    "#событие A_more_1 - выиграли сумму более 1 рубля\n",
    "p_a_more_1 = 0\n",
    "\n",
    "#вероятности событий\n",
    "p_h = []\n",
    "\n",
    "#события = [выпало 777 ; выпало 999 ; выпало 555 ; выпало 333 ; выпало 111]\n",
    "#вероятность одного такого события = 1/1000, всего таких событий 5\n",
    "for _ in range(5):\n",
    "    p_h.append(1 / 1000)\n",
    "\n",
    "#события = [выпало 077 , выпало 177 , ...,  выпало 977;\n",
    "#          [выпало 000 , выпало 100 , ...,  выпало 900]\n",
    "#вероятность одного такого события = 1/100, всего таких событий 2    \n",
    "for _ in range(2):\n",
    "    p_h.append(1 / 100)\n",
    "\n",
    "\n",
    "#события = [выпало 007 , выпало 017 , ...,  выпало 997;\n",
    "#          [выпало 010 , выпало 020 , ...,  выпало 990]\n",
    "#вероятность одного такого события = (1 / 10 - 1/100), всего таких событий 2    \n",
    "for _ in range(2):\n",
    "    p_h.append(1 / 10 - 1 / 100)    \n",
    "\n",
    "#вероятность выигрыша при каждом из событий в массиве p_h = 1\n",
    "\n",
    "#все остальные возможные исходы (123, 456 и т.д.) имеют вероятность 1 / 1000, а вероятность выигрыша при таких исходах = 0,\n",
    "#поэтому мы эти исходы не включаем в формулу\n",
    "\n",
    "p_a = sum(p_h)\n",
    "print(\"Теоретическая вероятность выигрыша ненулевой суммы: \", p_a)\n",
    "\n",
    "p_a_more_1 = p_a - (1 / 10 - 1 / 100)\n",
    "print(\"Теоретическая вероятность выигрыша суммы более 1 рубля: \", p_a_more_1)\n",
    "    "
   ]
  },
  {
   "cell_type": "markdown",
   "metadata": {},
   "source": [
    "Получили схожие результаты: вероятность выиграть хоть что-то в районе 1 / 5, вероятность выиграть сумму более 1 рубля - около 1 / 10."
   ]
  },
  {
   "cell_type": "code",
   "execution_count": null,
   "metadata": {},
   "outputs": [],
   "source": []
  }
 ],
 "metadata": {
  "kernelspec": {
   "display_name": "Python 3",
   "language": "python",
   "name": "python3"
  },
  "language_info": {
   "codemirror_mode": {
    "name": "ipython",
    "version": 3
   },
   "file_extension": ".py",
   "mimetype": "text/x-python",
   "name": "python",
   "nbconvert_exporter": "python",
   "pygments_lexer": "ipython3",
   "version": "3.8.5"
  }
 },
 "nbformat": 4,
 "nbformat_minor": 4
}
