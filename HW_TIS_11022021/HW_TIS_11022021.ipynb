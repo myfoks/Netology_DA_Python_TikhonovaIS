{
 "cells": [
  {
   "cell_type": "markdown",
   "metadata": {},
   "source": [
    "## Домашнее задание по блоку 11.02.2021. Функции\n",
    "### Тихонова Инна"
   ]
  },
  {
   "cell_type": "markdown",
   "metadata": {},
   "source": [
    "**Описание задачи**\n",
    "\n",
    "Вам нужно помочь секретарю автоматизировать работу. Для этого нужно написать программу, которая будет на основе хранимых данных исполнять пользовательские команды.\n",
    "\n",
    "Общие требования к программе:\n",
    " - код должен быть грамотно декомпозирован (каждая функция отвечает за свою конкретную задачу, дублирующийся функционал переиспользуется, а его код не повторяется);\n",
    " - в коде отсутствуют глобальные переменные (за исключением documents и directories);\n",
    " - пользовательский ввод обрабатывается в цикле while до тех пор, пока пользователь явно не завершит программу (вводом команды \"q\")."
   ]
  },
  {
   "cell_type": "code",
   "execution_count": 1,
   "metadata": {},
   "outputs": [],
   "source": [
    "#Перечень всех документов\n",
    "documents = [{'type': 'passport', 'number': '2207 876234', 'name': 'Василий Гупкин'},\n",
    "             {'type': 'invoice', 'number': '11-2', 'name': 'Геннадий Покемонов'},\n",
    "             {'type': 'insurance', 'number': '10006', 'name': 'Аристарх Павлов'}\n",
    "            ]\n",
    "\n",
    "#Перечень полок, на которых хранятся документы (если документ есть в documents, то он обязательно должен быть и в directories)\n",
    "directories = {'1': ['2207 876234', '11-2'],\n",
    "               '2': ['10006'],\n",
    "               '3': []\n",
    "              }"
   ]
  },
  {
   "cell_type": "markdown",
   "metadata": {},
   "source": [
    "**Основная функция и вспомогательные функции**"
   ]
  },
  {
   "cell_type": "code",
   "execution_count": 2,
   "metadata": {},
   "outputs": [],
   "source": [
    "def main():\n",
    "    \n",
    "    command = ''\n",
    "    while command != \"q\":\n",
    "        command = input(\"Введите команду: \")\n",
    "        if is_correct_command(command):\n",
    "            do_command(command)\n",
    "        else:\n",
    "            print(\"Некорректная команда\")"
   ]
  },
  {
   "cell_type": "code",
   "execution_count": 3,
   "metadata": {},
   "outputs": [],
   "source": [
    "def is_correct_command(command):\n",
    "    \n",
    "    correct_commands = ['p', 's', 'l', 'ads', 'ds', 'ad', 'd', 'm', 'q']\n",
    "    if command in correct_commands:\n",
    "        return True\n",
    "    else:\n",
    "        return False"
   ]
  },
  {
   "cell_type": "code",
   "execution_count": 4,
   "metadata": {},
   "outputs": [],
   "source": [
    "def do_command(command):\n",
    "    \n",
    "    if command == \"p\":\n",
    "        \n",
    "        num_doc = input(\"Введите номер документа: \")\n",
    "        owner = get_owner(num_doc)\n",
    "        if owner != False:\n",
    "            print(\"Владелец документа:\", owner)\n",
    "        else:\n",
    "            print(\"Документ не найден в базе\")\n",
    "    \n",
    "    ########################################################\n",
    "    elif command == \"s\":\n",
    "        \n",
    "        num_doc = input(\"Введите номер документа: \")\n",
    "        directory = get_directory(num_doc)\n",
    "        \n",
    "        if directory != False:\n",
    "            print(\"Документ хранится на полке:\", directory)\n",
    "        else:\n",
    "            print(\"Документ не найден в базе\")\n",
    "            \n",
    "    ########################################################    \n",
    "    elif command == \"l\":\n",
    "        get_info_all_docs()\n",
    "    \n",
    "    ########################################################\n",
    "    elif command == \"ads\":\n",
    "        \n",
    "        new_dir = input(\"Введите номер полки: \")\n",
    "        result = set_new_directory(new_dir)\n",
    "        \n",
    "        if result == True:\n",
    "            print(\"Полка добавлена. Текущий перечень полок:\", get_info_all_dirs())\n",
    "        else:\n",
    "            print(\"Такая полка уже существует. Текущий перечень полок:\", get_info_all_dirs())\n",
    "    \n",
    "    ########################################################\n",
    "    elif command == \"ds\":\n",
    "        \n",
    "        del_dir = input(\"Введите номер полки: \")\n",
    "        result = del_directory(del_dir)\n",
    "        \n",
    "        if result == 0:\n",
    "            print(\"Полка удалена. Текущий перечень полок:\", get_info_all_dirs())\n",
    "        elif result == 1:\n",
    "            print(\"На полке есть документы, удалите их перед удалением полки. Текущий перечень полок:\", get_info_all_dirs())        \n",
    "        else:\n",
    "            print(\"Такой полки не существует. Текущий перечень полок:\", get_info_all_dirs())\n",
    "    \n",
    "    ########################################################\n",
    "    elif command == \"ad\":\n",
    "        \n",
    "        new_doc = (input(\"Введите номер документа: \"),\n",
    "                    input(\"Введите тип документа: \"),\n",
    "                    input(\"Введите владельца документа: \"),\n",
    "                    input(\"Введите полку для хранения: \")\n",
    "                   )\n",
    "        result = set_new_doc(new_doc)\n",
    "        \n",
    "        if result == True:\n",
    "            print(\"Документ добавлен. Текущий список документов:\")\n",
    "        else:\n",
    "            print(\"Такой полки не существует. Добавьте полку командой ads.\") \n",
    "            print(\"Текущий список документов:\")\n",
    "            \n",
    "        get_info_all_docs()\n",
    "    \n",
    "    ########################################################\n",
    "    elif command == \"d\":\n",
    "        \n",
    "        del_doc = input(\"Введите номер документа: \")\n",
    "        result = del_document(del_doc)\n",
    "        \n",
    "        if result == True:\n",
    "            print(\"Документ удален.\")\n",
    "        else:\n",
    "            print(\"Документ не найден в базе.\")\n",
    "            \n",
    "        print(\"Текущий список документов:\")\n",
    "        get_info_all_docs()\n",
    "    \n",
    "    ########################################################\n",
    "    elif command == \"m\":\n",
    "        \n",
    "        num_doc = input(\"Введите номер документа: \")\n",
    "        new_dir = input(\"Введите номер полки: \")\n",
    "        \n",
    "        result = set_new_dir_for_doc(num_doc, new_dir)\n",
    "        if result == 0:\n",
    "            print(\"Документ перемещен.\")\n",
    "            print(\"Текущий список документов:\")\n",
    "            get_info_all_docs() \n",
    "        elif result == 1:\n",
    "            print(\"Такой полки не существует. Текущий перечень полок:\", get_info_all_dirs())        \n",
    "        else:\n",
    "            print(\"Документ не найден в базе.\")\n",
    "            print(\"Текущий список документов:\")\n",
    "            get_info_all_docs()"
   ]
  },
  {
   "cell_type": "markdown",
   "metadata": {},
   "source": [
    "**Задание 1. Пункт 1.** Пользователь по команде \"p\" может узнать владельца документа по его номеру."
   ]
  },
  {
   "cell_type": "code",
   "execution_count": 5,
   "metadata": {},
   "outputs": [],
   "source": [
    "def find_doc(num_doc):\n",
    "    \n",
    "    for i in range(len(documents)):\n",
    "        if documents[i]['number'] == num_doc:\n",
    "            return i\n",
    "    \n",
    "    return False"
   ]
  },
  {
   "cell_type": "code",
   "execution_count": 6,
   "metadata": {},
   "outputs": [],
   "source": [
    "def get_owner(num_doc):\n",
    "    \n",
    "    i = find_doc(num_doc)\n",
    "    if i != False:\n",
    "        return documents[i]['name']\n",
    "    else:\n",
    "        return False"
   ]
  },
  {
   "cell_type": "code",
   "execution_count": 7,
   "metadata": {},
   "outputs": [
    {
     "name": "stdout",
     "output_type": "stream",
     "text": [
      "Введите команду: p\n",
      "Введите номер документа: 10006\n",
      "Владелец документа: Аристарх Павлов\n",
      "Введите команду: p\n",
      "Введите номер документа: 12345\n",
      "Документ не найден в базе\n",
      "Введите команду: q\n"
     ]
    }
   ],
   "source": [
    "main()"
   ]
  },
  {
   "cell_type": "markdown",
   "metadata": {},
   "source": [
    "**Задание 1. Пункт 2.** Пользователь по команде \"s\" может по номеру документа узнать, на какой полке он хранится."
   ]
  },
  {
   "cell_type": "code",
   "execution_count": 8,
   "metadata": {},
   "outputs": [],
   "source": [
    "def get_directory(num_doc):\n",
    "    \n",
    "    for dir_key, dir_value in directories.items():\n",
    "        if num_doc in dir_value:\n",
    "            return dir_key\n",
    "    return False"
   ]
  },
  {
   "cell_type": "code",
   "execution_count": 9,
   "metadata": {},
   "outputs": [
    {
     "name": "stdout",
     "output_type": "stream",
     "text": [
      "Введите команду: s\n",
      "Введите номер документа: 10006\n",
      "Документ хранится на полке: 2\n",
      "Введите команду: s\n",
      "Введите номер документа: 12345\n",
      "Документ не найден в базе\n",
      "Введите команду: q\n"
     ]
    }
   ],
   "source": [
    "main()"
   ]
  },
  {
   "cell_type": "markdown",
   "metadata": {},
   "source": [
    "**Задание 1. Пункт 3.** Пользователь по команде \"l\" может увидеть полную информацию по всем документам"
   ]
  },
  {
   "cell_type": "code",
   "execution_count": 10,
   "metadata": {},
   "outputs": [],
   "source": [
    "def get_info_all_docs():\n",
    "    \n",
    "    for doc in documents:\n",
    "        print(\"№: \" + doc['number'] + \", тип: \" + doc['type'] \n",
    "              + \", владелец: \" + doc['name'] + \", полка хранения: \" + get_directory(doc['number']))"
   ]
  },
  {
   "cell_type": "code",
   "execution_count": 11,
   "metadata": {},
   "outputs": [
    {
     "name": "stdout",
     "output_type": "stream",
     "text": [
      "Введите команду: l\n",
      "№: 2207 876234, тип: passport, владелец: Василий Гупкин, полка хранения: 1\n",
      "№: 11-2, тип: invoice, владелец: Геннадий Покемонов, полка хранения: 1\n",
      "№: 10006, тип: insurance, владелец: Аристарх Павлов, полка хранения: 2\n",
      "Введите команду: q\n"
     ]
    }
   ],
   "source": [
    "main()"
   ]
  },
  {
   "cell_type": "markdown",
   "metadata": {},
   "source": [
    "**Задание 1. Пункт 4.** Пользователь по команде \"ads\" может добавить новую полку"
   ]
  },
  {
   "cell_type": "code",
   "execution_count": 12,
   "metadata": {},
   "outputs": [],
   "source": [
    "def get_info_all_dirs():\n",
    "    \n",
    "    return ', '.join(directories.keys()) + '.'"
   ]
  },
  {
   "cell_type": "code",
   "execution_count": 13,
   "metadata": {},
   "outputs": [],
   "source": [
    "def set_new_directory(new_dir):\n",
    "    \n",
    "    if new_dir not in directories.keys():\n",
    "        \n",
    "        directories[new_dir] = []\n",
    "        return True\n",
    "        \n",
    "    else:\n",
    "        return False"
   ]
  },
  {
   "cell_type": "code",
   "execution_count": 14,
   "metadata": {},
   "outputs": [
    {
     "name": "stdout",
     "output_type": "stream",
     "text": [
      "Введите команду: ads\n",
      "Введите номер полки: 10\n",
      "Полка добавлена. Текущий перечень полок: 1, 2, 3, 10.\n",
      "Введите команду: ads\n",
      "Введите номер полки: 1\n",
      "Такая полка уже существует. Текущий перечень полок: 1, 2, 3, 10.\n",
      "Введите команду: q\n"
     ]
    }
   ],
   "source": [
    "main()"
   ]
  },
  {
   "cell_type": "markdown",
   "metadata": {},
   "source": [
    "**Задание 1. Пункт 5.** Пользователь по команде \"ds\" может удалить существующую полку из данных (только если она пустая)"
   ]
  },
  {
   "cell_type": "code",
   "execution_count": 15,
   "metadata": {},
   "outputs": [],
   "source": [
    "def del_directory(del_dir):\n",
    "    \n",
    "    if del_dir in directories.keys():\n",
    "        \n",
    "        if len(directories[del_dir]) == 0:\n",
    "            del(directories[del_dir])\n",
    "            return 0\n",
    "        else:\n",
    "            return 1\n",
    "    else:\n",
    "        return 2"
   ]
  },
  {
   "cell_type": "code",
   "execution_count": 16,
   "metadata": {},
   "outputs": [
    {
     "name": "stdout",
     "output_type": "stream",
     "text": [
      "Введите команду: ds\n",
      "Введите номер полки: 10\n",
      "Полка удалена. Текущий перечень полок: 1, 2, 3.\n",
      "Введите команду: ds\n",
      "Введите номер полки: 3\n",
      "Полка удалена. Текущий перечень полок: 1, 2.\n",
      "Введите команду: ds\n",
      "Введите номер полки: 1\n",
      "На полке есть документы, удалите их перед удалением полки. Текущий перечень полок: 1, 2.\n",
      "Введите команду: q\n"
     ]
    }
   ],
   "source": [
    "main()"
   ]
  },
  {
   "cell_type": "markdown",
   "metadata": {},
   "source": [
    "**Задание 2 (необязательное). Пункт 1.** Пользователь по команде \"ad\" может добавить новый документ в данные"
   ]
  },
  {
   "cell_type": "code",
   "execution_count": 17,
   "metadata": {},
   "outputs": [],
   "source": [
    "def set_new_doc(new_doc):\n",
    "    \n",
    "    new_doc_number = new_doc[0]\n",
    "    new_doc_type = new_doc[1]\n",
    "    new_doc_owner = new_doc[2]\n",
    "    new_doc_dir = new_doc[3]\n",
    "    \n",
    "    if new_doc_dir in directories.keys():\n",
    "        \n",
    "        documents.append({'type': new_doc_type, 'number': new_doc_number, 'name': new_doc_owner})\n",
    "        directories[new_doc_dir].append(new_doc_number)\n",
    "        return True\n",
    "        \n",
    "    else:\n",
    "        return False"
   ]
  },
  {
   "cell_type": "code",
   "execution_count": 18,
   "metadata": {},
   "outputs": [
    {
     "name": "stdout",
     "output_type": "stream",
     "text": [
      "Введите команду: ad\n",
      "Введите номер документа: 42\n",
      "Введите тип документа: multipassport\n",
      "Введите владельца документа: R2D2\n",
      "Введите полку для хранения: 3\n",
      "Такой полки не существует. Добавьте полку командой ads.\n",
      "Текущий список документов:\n",
      "№: 2207 876234, тип: passport, владелец: Василий Гупкин, полка хранения: 1\n",
      "№: 11-2, тип: invoice, владелец: Геннадий Покемонов, полка хранения: 1\n",
      "№: 10006, тип: insurance, владелец: Аристарх Павлов, полка хранения: 2\n",
      "Введите команду: ads\n",
      "Введите номер полки: 3\n",
      "Полка добавлена. Текущий перечень полок: 1, 2, 3.\n",
      "Введите команду: ad\n",
      "Введите номер документа: 42\n",
      "Введите тип документа: multipassport\n",
      "Введите владельца документа: R2D2\n",
      "Введите полку для хранения: 3\n",
      "Документ добавлен. Текущий список документов:\n",
      "№: 2207 876234, тип: passport, владелец: Василий Гупкин, полка хранения: 1\n",
      "№: 11-2, тип: invoice, владелец: Геннадий Покемонов, полка хранения: 1\n",
      "№: 10006, тип: insurance, владелец: Аристарх Павлов, полка хранения: 2\n",
      "№: 42, тип: multipassport, владелец: R2D2, полка хранения: 3\n",
      "Введите команду: ad\n",
      "Введите номер документа: 42\n",
      "Введите тип документа: multipassport\n",
      "Введите владельца документа: R2D2\n",
      "Введите полку для хранения: 4\n",
      "Такой полки не существует. Добавьте полку командой ads.\n",
      "Текущий список документов:\n",
      "№: 2207 876234, тип: passport, владелец: Василий Гупкин, полка хранения: 1\n",
      "№: 11-2, тип: invoice, владелец: Геннадий Покемонов, полка хранения: 1\n",
      "№: 10006, тип: insurance, владелец: Аристарх Павлов, полка хранения: 2\n",
      "№: 42, тип: multipassport, владелец: R2D2, полка хранения: 3\n",
      "Введите команду: q\n"
     ]
    }
   ],
   "source": [
    "main()"
   ]
  },
  {
   "cell_type": "markdown",
   "metadata": {},
   "source": [
    "**Задание 2 (необязательное). Пункт 2.** Пользователь по команде \"d\" может удалить документ из данных"
   ]
  },
  {
   "cell_type": "code",
   "execution_count": 19,
   "metadata": {},
   "outputs": [],
   "source": [
    "def del_document(del_doc):\n",
    "    \n",
    "    i = find_doc(del_doc)\n",
    "    if i != False:\n",
    "        \n",
    "        del(documents[i])\n",
    "                \n",
    "        directories[get_directory(del_doc)].remove(del_doc)\n",
    "        return True\n",
    "    else:\n",
    "        return False"
   ]
  },
  {
   "cell_type": "code",
   "execution_count": 20,
   "metadata": {},
   "outputs": [
    {
     "name": "stdout",
     "output_type": "stream",
     "text": [
      "Введите команду: d\n",
      "Введите номер документа: 42\n",
      "Документ удален.\n",
      "Текущий список документов:\n",
      "№: 2207 876234, тип: passport, владелец: Василий Гупкин, полка хранения: 1\n",
      "№: 11-2, тип: invoice, владелец: Геннадий Покемонов, полка хранения: 1\n",
      "№: 10006, тип: insurance, владелец: Аристарх Павлов, полка хранения: 2\n",
      "Введите команду: d\n",
      "Введите номер документа: 12345\n",
      "Документ не найден в базе.\n",
      "Текущий список документов:\n",
      "№: 2207 876234, тип: passport, владелец: Василий Гупкин, полка хранения: 1\n",
      "№: 11-2, тип: invoice, владелец: Геннадий Покемонов, полка хранения: 1\n",
      "№: 10006, тип: insurance, владелец: Аристарх Павлов, полка хранения: 2\n",
      "Введите команду: q\n"
     ]
    }
   ],
   "source": [
    "main()"
   ]
  },
  {
   "cell_type": "markdown",
   "metadata": {},
   "source": [
    "**Задание 2 (необязательное). Пункт 3.** Пользователь по команде \"m\" может переместить документ с полки на полку"
   ]
  },
  {
   "cell_type": "code",
   "execution_count": 21,
   "metadata": {},
   "outputs": [],
   "source": [
    "def set_new_dir_for_doc(num_doc, new_dir):\n",
    "    \n",
    "    i = find_doc(num_doc)\n",
    "    if i != False:\n",
    "        \n",
    "        if new_dir in directories.keys():\n",
    "        \n",
    "            new_doc = [num_doc, documents[i]['type'], get_owner(num_doc)]\n",
    "            new_doc.append(new_dir)\n",
    "            \n",
    "            del_document(num_doc)\n",
    "            set_new_doc(new_doc)    \n",
    "            \n",
    "            return 0\n",
    "        else:\n",
    "            return 1\n",
    "    else:\n",
    "        return 2        "
   ]
  },
  {
   "cell_type": "code",
   "execution_count": 22,
   "metadata": {},
   "outputs": [
    {
     "name": "stdout",
     "output_type": "stream",
     "text": [
      "Введите команду: m\n",
      "Введите номер документа: 11-2\n",
      "Введите номер полки: 3\n",
      "Документ перемещен.\n",
      "Текущий список документов:\n",
      "№: 2207 876234, тип: passport, владелец: Василий Гупкин, полка хранения: 1\n",
      "№: 10006, тип: insurance, владелец: Аристарх Павлов, полка хранения: 2\n",
      "№: 11-2, тип: invoice, владелец: Геннадий Покемонов, полка хранения: 3\n",
      "Введите команду: m\n",
      "Введите номер документа: 11-2\n",
      "Введите номер полки: 10\n",
      "Такой полки не существует. Текущий перечень полок: 1, 2, 3.\n",
      "Введите команду: m\n",
      "Введите номер документа: 42\n",
      "Введите номер полки: 2\n",
      "Документ не найден в базе.\n",
      "Текущий список документов:\n",
      "№: 2207 876234, тип: passport, владелец: Василий Гупкин, полка хранения: 1\n",
      "№: 10006, тип: insurance, владелец: Аристарх Павлов, полка хранения: 2\n",
      "№: 11-2, тип: invoice, владелец: Геннадий Покемонов, полка хранения: 3\n",
      "Введите команду: q\n"
     ]
    }
   ],
   "source": [
    "main()"
   ]
  },
  {
   "cell_type": "code",
   "execution_count": null,
   "metadata": {},
   "outputs": [],
   "source": []
  }
 ],
 "metadata": {
  "kernelspec": {
   "display_name": "Python 3",
   "language": "python",
   "name": "python3"
  },
  "language_info": {
   "codemirror_mode": {
    "name": "ipython",
    "version": 3
   },
   "file_extension": ".py",
   "mimetype": "text/x-python",
   "name": "python",
   "nbconvert_exporter": "python",
   "pygments_lexer": "ipython3",
   "version": "3.8.5"
  }
 },
 "nbformat": 4,
 "nbformat_minor": 4
}
