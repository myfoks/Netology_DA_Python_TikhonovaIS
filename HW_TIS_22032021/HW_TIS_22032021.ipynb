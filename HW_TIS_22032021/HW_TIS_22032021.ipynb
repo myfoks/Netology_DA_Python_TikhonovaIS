{
 "cells": [
  {
   "cell_type": "markdown",
   "metadata": {},
   "source": [
    "## Домашнее задание по блоку 22.03.2021. Основы парсинга и работы с API\n",
    "### Тихонова Инна"
   ]
  },
  {
   "cell_type": "code",
   "execution_count": 1,
   "metadata": {},
   "outputs": [],
   "source": [
    "import pandas as pd\n",
    "from bs4 import BeautifulSoup\n",
    "import requests\n",
    "from datetime import datetime, timedelta\n",
    "import re\n",
    "import json"
   ]
  },
  {
   "cell_type": "markdown",
   "metadata": {},
   "source": [
    "**Задание 1. Обязательная часть**\n",
    "\n",
    "Будем парсить страницу со свежими новостям на habr.com/ru/all/.\n",
    "\n",
    "Вам необходимо собирать только те статьи, в которых встречается хотя бы одно требуемое ключевое слово. Эти слова определяем в начале кода в переменной, например:\n",
    "\n",
    "KEYWORDS = ['python', 'парсинг']\n",
    "\n",
    "Поиск вести по всей доступной preview-информации (это информация, доступная непосредственно с текущей страницы).\n",
    "\n",
    "В итоге должен формироваться датафрейм вида: <дата> - <заголовок> - <ссылка>"
   ]
  },
  {
   "cell_type": "code",
   "execution_count": 2,
   "metadata": {},
   "outputs": [],
   "source": [
    "KEYWORDS = ['python', 'парсинг', 'Мурманск', 'статья из цикла', '2021', 'безопасно']"
   ]
  },
  {
   "cell_type": "code",
   "execution_count": 3,
   "metadata": {},
   "outputs": [],
   "source": [
    "req = requests.get('https://habr.com/ru/all/')\n",
    "soup = BeautifulSoup(req.text, 'lxml')"
   ]
  },
  {
   "cell_type": "code",
   "execution_count": 4,
   "metadata": {},
   "outputs": [],
   "source": [
    "posts = soup.find_all('article', class_='post post_preview')"
   ]
  },
  {
   "cell_type": "code",
   "execution_count": 5,
   "metadata": {},
   "outputs": [],
   "source": [
    "def get_correct_datetime(date_text):\n",
    "    \n",
    "    #словарь для перевода строки с датой в формат даты\n",
    "    dict_month = {'января': '01', 'февраля': '02', 'марта': '03'} #....\n",
    "    #сегодняшняя дата, 2021-03-23\n",
    "    today = datetime.now()\n",
    "    \n",
    "    #в поле \"дата\" у новости может быть не только дата, но и \"сегодня\" или \"вчера\". Перевела это в datetime\n",
    "    if 'сегодня' in date_text:\n",
    "        # 'сегодня в 10:47'\n",
    "        date_str = date_text.replace('сегодня в', today.strftime(\"%d %m %Y\"))\n",
    "\n",
    "    elif 'вчера' in date_text:\n",
    "        # 'вчера в 10:47'\n",
    "        date_str = date_text.replace('вчера в', (today + timedelta(days=-1)).strftime(\"%d %m %Y\"))\n",
    "\n",
    "    else:\n",
    "        # '21 марта 2021 в 10:00'\n",
    "        for month in dict_month:\n",
    "            date_text = date_text.replace(month, dict_month[month])\n",
    "        date_str = date_text.replace(' в', '')\n",
    "\n",
    "    date_correct = datetime.strptime(date_str, '%d %m %Y %H:%M')\n",
    "    \n",
    "    return date_correct"
   ]
  },
  {
   "cell_type": "code",
   "execution_count": 6,
   "metadata": {},
   "outputs": [
    {
     "name": "stdout",
     "output_type": "stream",
     "text": [
      "2021-03-23 10:47:00\n",
      "2021-03-22 10:47:00\n",
      "2021-03-21 10:00:00\n"
     ]
    }
   ],
   "source": [
    "#тест\n",
    "print(get_correct_datetime('сегодня в 10:47'))\n",
    "print(get_correct_datetime('вчера в 10:47'))\n",
    "print(get_correct_datetime('21 марта 2021 в 10:00'))"
   ]
  },
  {
   "cell_type": "code",
   "execution_count": 7,
   "metadata": {},
   "outputs": [],
   "source": [
    "data = []\n",
    "columns = ['date', 'title', 'href']\n",
    "\n",
    "for post in posts:\n",
    "   \n",
    "    flag = False\n",
    "    #поиск с учетом тэгов и превью статьи\n",
    "    for keyword in KEYWORDS:\n",
    "        flag = flag or (keyword in post.text)\n",
    "            \n",
    "    if flag:        \n",
    "        title_element = post.find('a', class_='post__title_link')\n",
    "        date_text = post.find('span', class_='post__time').text\n",
    "        \n",
    "        date_correct = get_correct_datetime(date_text)\n",
    "        \n",
    "        data.append([\n",
    "                     date_correct,\n",
    "                     title_element.text, \n",
    "                     title_element.attrs.get('href')\n",
    "                    ])        "
   ]
  },
  {
   "cell_type": "code",
   "execution_count": 8,
   "metadata": {},
   "outputs": [
    {
     "data": {
      "text/html": [
       "<div>\n",
       "<style scoped>\n",
       "    .dataframe tbody tr th:only-of-type {\n",
       "        vertical-align: middle;\n",
       "    }\n",
       "\n",
       "    .dataframe tbody tr th {\n",
       "        vertical-align: top;\n",
       "    }\n",
       "\n",
       "    .dataframe thead th {\n",
       "        text-align: right;\n",
       "    }\n",
       "</style>\n",
       "<table border=\"1\" class=\"dataframe\">\n",
       "  <thead>\n",
       "    <tr style=\"text-align: right;\">\n",
       "      <th></th>\n",
       "      <th>date</th>\n",
       "      <th>title</th>\n",
       "      <th>href</th>\n",
       "    </tr>\n",
       "  </thead>\n",
       "  <tbody>\n",
       "    <tr>\n",
       "      <th>0</th>\n",
       "      <td>2021-03-23 15:05:00</td>\n",
       "      <td>Обзор инструментов качества данных</td>\n",
       "      <td>https://habr.com/ru/post/548398/</td>\n",
       "    </tr>\n",
       "    <tr>\n",
       "      <th>1</th>\n",
       "      <td>2021-03-23 14:55:00</td>\n",
       "      <td>Что влияет на развитие отрасли видео-конференц...</td>\n",
       "      <td>https://habr.com/ru/company/ipmatika/blog/548546/</td>\n",
       "    </tr>\n",
       "    <tr>\n",
       "      <th>2</th>\n",
       "      <td>2021-03-23 13:09:00</td>\n",
       "      <td>Эксперты о «среднем» диапазоне спектра от 3,3 ...</td>\n",
       "      <td>https://habr.com/ru/post/548524/</td>\n",
       "    </tr>\n",
       "    <tr>\n",
       "      <th>3</th>\n",
       "      <td>2021-03-23 12:35:00</td>\n",
       "      <td>Формульное определение проблем качества данных</td>\n",
       "      <td>https://habr.com/ru/post/548388/</td>\n",
       "    </tr>\n",
       "    <tr>\n",
       "      <th>4</th>\n",
       "      <td>2021-03-23 12:27:00</td>\n",
       "      <td>Подключённые автомобили: обобщённый метод взло...</td>\n",
       "      <td>https://habr.com/ru/company/trendmicro/blog/54...</td>\n",
       "    </tr>\n",
       "    <tr>\n",
       "      <th>5</th>\n",
       "      <td>2021-03-23 12:05:00</td>\n",
       "      <td>Русские хакерши: разговор с Алисой Esage Шевченко</td>\n",
       "      <td>https://habr.com/ru/company/ruvds/blog/548478/</td>\n",
       "    </tr>\n",
       "  </tbody>\n",
       "</table>\n",
       "</div>"
      ],
      "text/plain": [
       "                 date                                              title  \\\n",
       "0 2021-03-23 15:05:00                 Обзор инструментов качества данных   \n",
       "1 2021-03-23 14:55:00  Что влияет на развитие отрасли видео-конференц...   \n",
       "2 2021-03-23 13:09:00  Эксперты о «среднем» диапазоне спектра от 3,3 ...   \n",
       "3 2021-03-23 12:35:00     Формульное определение проблем качества данных   \n",
       "4 2021-03-23 12:27:00  Подключённые автомобили: обобщённый метод взло...   \n",
       "5 2021-03-23 12:05:00  Русские хакерши: разговор с Алисой Esage Шевченко   \n",
       "\n",
       "                                                href  \n",
       "0                   https://habr.com/ru/post/548398/  \n",
       "1  https://habr.com/ru/company/ipmatika/blog/548546/  \n",
       "2                   https://habr.com/ru/post/548524/  \n",
       "3                   https://habr.com/ru/post/548388/  \n",
       "4  https://habr.com/ru/company/trendmicro/blog/54...  \n",
       "5     https://habr.com/ru/company/ruvds/blog/548478/  "
      ]
     },
     "execution_count": 8,
     "metadata": {},
     "output_type": "execute_result"
    }
   ],
   "source": [
    "df = pd.DataFrame(data = data, columns = columns)\n",
    "df"
   ]
  },
  {
   "cell_type": "code",
   "execution_count": 9,
   "metadata": {},
   "outputs": [
    {
     "name": "stdout",
     "output_type": "stream",
     "text": [
      "<class 'pandas.core.frame.DataFrame'>\n",
      "RangeIndex: 6 entries, 0 to 5\n",
      "Data columns (total 3 columns):\n",
      " #   Column  Non-Null Count  Dtype         \n",
      "---  ------  --------------  -----         \n",
      " 0   date    6 non-null      datetime64[ns]\n",
      " 1   title   6 non-null      object        \n",
      " 2   href    6 non-null      object        \n",
      "dtypes: datetime64[ns](1), object(2)\n",
      "memory usage: 272.0+ bytes\n"
     ]
    }
   ],
   "source": [
    "df.info()"
   ]
  },
  {
   "cell_type": "markdown",
   "metadata": {},
   "source": [
    "**Задание 1. Дополнительная часть (необязательная)**\n",
    "\n",
    "Улучшить скрипт так, чтобы он анализировал не только preview-информацию статьи, но и весь текст статьи целиком.\n",
    "\n",
    "Для этого потребуется получать страницы статей и искать по тексту внутри этой страницы.\n",
    "\n",
    "Итоговый датафрейм формировать со столбцами: <дата> - <заголовок> - <ссылка> - <текст_статьи>"
   ]
  },
  {
   "cell_type": "code",
   "execution_count": 10,
   "metadata": {},
   "outputs": [],
   "source": [
    "KEYWORDS = ['DQ (например, [13, 17])'] #https://habr.com/ru/post/548388/"
   ]
  },
  {
   "cell_type": "code",
   "execution_count": 12,
   "metadata": {},
   "outputs": [],
   "source": [
    "data = []\n",
    "columns = ['date', 'title', 'href', 'text']\n",
    "\n",
    "for post in posts:\n",
    "   \n",
    "    title_element = post.find('a', class_='post__title_link')\n",
    "    title = title_element.text\n",
    "    href = title_element.attrs.get('href')\n",
    "    \n",
    "    date_text = post.find('span', class_='post__time').text\n",
    "    date_correct = get_correct_datetime(date_text)\n",
    "    \n",
    "    #переходим по ссылке\n",
    "    req_href = requests.get(href)\n",
    "    soup_href = BeautifulSoup(req_href.text, 'lxml')\n",
    "    post_href = soup_href.find('article', class_='post post_full')\n",
    "\n",
    "    flag = False\n",
    "    #поиск с учетом тэгов и полного текста статьи со страницы статьи\n",
    "    for keyword in KEYWORDS:\n",
    "        flag = flag or (keyword in post_href.text)\n",
    "            \n",
    "    if flag:        \n",
    "        \n",
    "        #текст статьи без залоговка и тэгов\n",
    "        text = soup_href.find('div', class_='post__text post__text_v2').text\n",
    "        \n",
    "        data.append([\n",
    "                     date_correct,\n",
    "                     title, \n",
    "                     href,\n",
    "                     text\n",
    "                    ])        "
   ]
  },
  {
   "cell_type": "code",
   "execution_count": 13,
   "metadata": {},
   "outputs": [
    {
     "data": {
      "text/html": [
       "<div>\n",
       "<style scoped>\n",
       "    .dataframe tbody tr th:only-of-type {\n",
       "        vertical-align: middle;\n",
       "    }\n",
       "\n",
       "    .dataframe tbody tr th {\n",
       "        vertical-align: top;\n",
       "    }\n",
       "\n",
       "    .dataframe thead th {\n",
       "        text-align: right;\n",
       "    }\n",
       "</style>\n",
       "<table border=\"1\" class=\"dataframe\">\n",
       "  <thead>\n",
       "    <tr style=\"text-align: right;\">\n",
       "      <th></th>\n",
       "      <th>date</th>\n",
       "      <th>title</th>\n",
       "      <th>href</th>\n",
       "      <th>text</th>\n",
       "    </tr>\n",
       "  </thead>\n",
       "  <tbody>\n",
       "    <tr>\n",
       "      <th>0</th>\n",
       "      <td>2021-03-23 12:35:00</td>\n",
       "      <td>Формульное определение проблем качества данных</td>\n",
       "      <td>https://habr.com/ru/post/548388/</td>\n",
       "      <td>A Formal Definition of Data Quality Problems (...</td>\n",
       "    </tr>\n",
       "  </tbody>\n",
       "</table>\n",
       "</div>"
      ],
      "text/plain": [
       "                 date                                           title  \\\n",
       "0 2021-03-23 12:35:00  Формульное определение проблем качества данных   \n",
       "\n",
       "                               href  \\\n",
       "0  https://habr.com/ru/post/548388/   \n",
       "\n",
       "                                                text  \n",
       "0  A Formal Definition of Data Quality Problems (...  "
      ]
     },
     "execution_count": 13,
     "metadata": {},
     "output_type": "execute_result"
    }
   ],
   "source": [
    "df_add = pd.DataFrame(data = data, columns = columns)\n",
    "df_add"
   ]
  },
  {
   "cell_type": "markdown",
   "metadata": {},
   "source": [
    "**Задание 2. Обязательная часть**\n",
    "\n",
    "Написать скрипт, который будет проверять список e-mail адресов на утечку при помощи сервиса Avast Насk Сheck. Список email-ов задаем переменной в начале кода:\n",
    "EMAIL = ['xxx@x.ru', 'yyy@y.com']\n",
    "\n",
    "В итоге должен формироваться датафрейм со столбцами: <почта> - <дата утечки> - <источник утечки> - <описание утечки>"
   ]
  },
  {
   "cell_type": "code",
   "execution_count": 15,
   "metadata": {},
   "outputs": [],
   "source": [
    "EMAIL = [\"aaa@list.ru\", \"bbb@list.ru\"]\n",
    "URL = 'https://identityprotection.avast.com/v1/web/query/site-breaches/unauthorized-data'"
   ]
  },
  {
   "cell_type": "code",
   "execution_count": 16,
   "metadata": {},
   "outputs": [],
   "source": [
    "data_ = []\n",
    "columns = ['email', 'date', 'source', 'description']"
   ]
  },
  {
   "cell_type": "code",
   "execution_count": 18,
   "metadata": {},
   "outputs": [],
   "source": [
    "for mail in EMAIL:\n",
    "\n",
    "    payload = {\n",
    "        \"emailAddresses\" : [mail]\n",
    "    } \n",
    "\n",
    "    headers = {\n",
    "        \"Vaar-Version\": \"0\",\n",
    "        \"Vaar-Header-App-Product-Name\": \"hackcheck-web-avast\",\n",
    "        \"Vaar-Header-App-Build-Version\": \"1.0.0\"\n",
    "    }\n",
    "    res = requests.post(URL, data=json.dumps(payload), headers=headers)\n",
    "    \n",
    "    breaches = res.json()[\"breaches\"]\n",
    "    for key in breaches:\n",
    "        \n",
    "        data_.append([\n",
    "                     mail,\n",
    "                     datetime.strptime(breaches[key]['publishDate'], '%Y-%m-%dT%H:%M:%SZ'), #что это за Z - не нашла\n",
    "                     breaches[key]['site'],\n",
    "                     breaches[key]['description']\n",
    "                    ])  "
   ]
  },
  {
   "cell_type": "code",
   "execution_count": 19,
   "metadata": {},
   "outputs": [
    {
     "data": {
      "text/html": [
       "<div>\n",
       "<style scoped>\n",
       "    .dataframe tbody tr th:only-of-type {\n",
       "        vertical-align: middle;\n",
       "    }\n",
       "\n",
       "    .dataframe tbody tr th {\n",
       "        vertical-align: top;\n",
       "    }\n",
       "\n",
       "    .dataframe thead th {\n",
       "        text-align: right;\n",
       "    }\n",
       "</style>\n",
       "<table border=\"1\" class=\"dataframe\">\n",
       "  <thead>\n",
       "    <tr style=\"text-align: right;\">\n",
       "      <th></th>\n",
       "      <th>email</th>\n",
       "      <th>date</th>\n",
       "      <th>source</th>\n",
       "      <th>description</th>\n",
       "    </tr>\n",
       "  </thead>\n",
       "  <tbody>\n",
       "    <tr>\n",
       "      <th>0</th>\n",
       "      <td>aaa@list.ru</td>\n",
       "      <td>2020-05-28</td>\n",
       "      <td>stalker.so</td>\n",
       "      <td>In January 2020, the Russian multiplayer video...</td>\n",
       "    </tr>\n",
       "    <tr>\n",
       "      <th>1</th>\n",
       "      <td>aaa@list.ru</td>\n",
       "      <td>2020-05-21</td>\n",
       "      <td>vk.com</td>\n",
       "      <td>At some time in 2020, the Russian social netwo...</td>\n",
       "    </tr>\n",
       "    <tr>\n",
       "      <th>2</th>\n",
       "      <td>aaa@list.ru</td>\n",
       "      <td>2020-07-23</td>\n",
       "      <td>wattpad.com</td>\n",
       "      <td>In June 2020, the online writing community Wat...</td>\n",
       "    </tr>\n",
       "    <tr>\n",
       "      <th>3</th>\n",
       "      <td>aaa@list.ru</td>\n",
       "      <td>2020-12-24</td>\n",
       "      <td>ledger.com</td>\n",
       "      <td>In June 2020, the hardware-based cryptocurrenc...</td>\n",
       "    </tr>\n",
       "    <tr>\n",
       "      <th>4</th>\n",
       "      <td>aaa@list.ru</td>\n",
       "      <td>2020-11-05</td>\n",
       "      <td>vimeworld.ru</td>\n",
       "      <td>In January 2018, the Russian Minecraft server ...</td>\n",
       "    </tr>\n",
       "    <tr>\n",
       "      <th>5</th>\n",
       "      <td>aaa@list.ru</td>\n",
       "      <td>2019-05-23</td>\n",
       "      <td>livejournal.com</td>\n",
       "      <td>In 2017, social network LiveJournal's database...</td>\n",
       "    </tr>\n",
       "    <tr>\n",
       "      <th>6</th>\n",
       "      <td>bbb@list.ru</td>\n",
       "      <td>2016-11-01</td>\n",
       "      <td>qip.ru</td>\n",
       "      <td>In 2011, Russian instant messaging service pro...</td>\n",
       "    </tr>\n",
       "    <tr>\n",
       "      <th>7</th>\n",
       "      <td>bbb@list.ru</td>\n",
       "      <td>2016-10-29</td>\n",
       "      <td>vk.com</td>\n",
       "      <td>Popular Russian social networking platform VKo...</td>\n",
       "    </tr>\n",
       "    <tr>\n",
       "      <th>8</th>\n",
       "      <td>bbb@list.ru</td>\n",
       "      <td>2021-01-07</td>\n",
       "      <td>joygames.me</td>\n",
       "      <td>In December 2020, the online gaming website Jo...</td>\n",
       "    </tr>\n",
       "    <tr>\n",
       "      <th>9</th>\n",
       "      <td>bbb@list.ru</td>\n",
       "      <td>2017-03-01</td>\n",
       "      <td>asterios.ru</td>\n",
       "      <td>In June 2010, Asterios' user database was alle...</td>\n",
       "    </tr>\n",
       "    <tr>\n",
       "      <th>10</th>\n",
       "      <td>bbb@list.ru</td>\n",
       "      <td>2016-12-15</td>\n",
       "      <td>klerk.ru</td>\n",
       "      <td>In March 2014, Russian news site Klerk.ru was ...</td>\n",
       "    </tr>\n",
       "  </tbody>\n",
       "</table>\n",
       "</div>"
      ],
      "text/plain": [
       "          email       date           source  \\\n",
       "0   aaa@list.ru 2020-05-28       stalker.so   \n",
       "1   aaa@list.ru 2020-05-21           vk.com   \n",
       "2   aaa@list.ru 2020-07-23      wattpad.com   \n",
       "3   aaa@list.ru 2020-12-24       ledger.com   \n",
       "4   aaa@list.ru 2020-11-05     vimeworld.ru   \n",
       "5   aaa@list.ru 2019-05-23  livejournal.com   \n",
       "6   bbb@list.ru 2016-11-01           qip.ru   \n",
       "7   bbb@list.ru 2016-10-29           vk.com   \n",
       "8   bbb@list.ru 2021-01-07      joygames.me   \n",
       "9   bbb@list.ru 2017-03-01      asterios.ru   \n",
       "10  bbb@list.ru 2016-12-15         klerk.ru   \n",
       "\n",
       "                                          description  \n",
       "0   In January 2020, the Russian multiplayer video...  \n",
       "1   At some time in 2020, the Russian social netwo...  \n",
       "2   In June 2020, the online writing community Wat...  \n",
       "3   In June 2020, the hardware-based cryptocurrenc...  \n",
       "4   In January 2018, the Russian Minecraft server ...  \n",
       "5   In 2017, social network LiveJournal's database...  \n",
       "6   In 2011, Russian instant messaging service pro...  \n",
       "7   Popular Russian social networking platform VKo...  \n",
       "8   In December 2020, the online gaming website Jo...  \n",
       "9   In June 2010, Asterios' user database was alle...  \n",
       "10  In March 2014, Russian news site Klerk.ru was ...  "
      ]
     },
     "execution_count": 19,
     "metadata": {},
     "output_type": "execute_result"
    }
   ],
   "source": [
    "df_post = pd.DataFrame(data = data_, columns = columns)\n",
    "df_post"
   ]
  },
  {
   "cell_type": "code",
   "execution_count": null,
   "metadata": {},
   "outputs": [],
   "source": []
  }
 ],
 "metadata": {
  "kernelspec": {
   "display_name": "Python 3",
   "language": "python",
   "name": "python3"
  },
  "language_info": {
   "codemirror_mode": {
    "name": "ipython",
    "version": 3
   },
   "file_extension": ".py",
   "mimetype": "text/x-python",
   "name": "python",
   "nbconvert_exporter": "python",
   "pygments_lexer": "ipython3",
   "version": "3.8.5"
  }
 },
 "nbformat": 4,
 "nbformat_minor": 4
}
