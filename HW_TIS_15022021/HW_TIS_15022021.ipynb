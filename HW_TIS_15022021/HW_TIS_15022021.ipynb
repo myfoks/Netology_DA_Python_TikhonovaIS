{
 "cells": [
  {
   "cell_type": "markdown",
   "metadata": {},
   "source": [
    "## Домашнее задание по блоку 15.02.2021. Работа с файловой системой и модули\n",
    "### Тихонова Инна"
   ]
  },
  {
   "cell_type": "markdown",
   "metadata": {},
   "source": [
    "**Задание 1.** \n",
    "\n",
    "Переведите содержимое файла purchase_log.txt в словарь purchases вида:\n",
    "{'1840e0b9d4': 'Продукты', …}"
   ]
  },
  {
   "cell_type": "code",
   "execution_count": 2,
   "metadata": {},
   "outputs": [],
   "source": [
    "import json"
   ]
  },
  {
   "cell_type": "code",
   "execution_count": 3,
   "metadata": {},
   "outputs": [],
   "source": [
    "dict_purchases = {}\n",
    "\n",
    "with open('purchase_log.txt', 'r', encoding='utf-8') as f:\n",
    "    for line in f:\n",
    "        \n",
    "        line_d = json.loads(line.strip())\n",
    "        dict_purchases[line_d['user_id']] = line_d['category']"
   ]
  },
  {
   "cell_type": "code",
   "execution_count": 9,
   "metadata": {},
   "outputs": [
    {
     "name": "stdout",
     "output_type": "stream",
     "text": [
      "{\n",
      "'user_id' : 'category'\n",
      "'1840e0b9d4' : 'Продукты'\n",
      "'4e4f90fcfb' : 'Электроника'\n",
      "'afea8d72fc' : 'Электроника'\n",
      "'373a6055fe' : 'Бытовая техника'\n",
      "'9b2ab046f3' : 'Электроника'\n",
      "'9f39d307c3' : 'Электроника'\n",
      "'44edeffc91' : 'Продукты'\n",
      "'704474fa2d' : 'Продукты'\n",
      "'1de31be403' : 'Бытовая техника'\n",
      "'b71f36a5e4' : 'Продукты'\n",
      "'79843a685a' : 'Продукты'\n",
      "'ff68cee0d6' : 'Бытовая техника'\n",
      "'e8447c40e2' : 'Досуг'\n",
      "'98d290be27' : 'Электроника'\n",
      "'fa0079a5a8' : 'Досуг'\n",
      "'22d2f03a17' : 'Досуг'\n",
      "'3f8e1ccd3f' : 'Электроника'\n",
      "'81a9988b83' : 'Электроника'\n",
      "'65f44a2eb7' : 'Досуг'\n",
      "...\n",
      "}\n"
     ]
    }
   ],
   "source": [
    "i = 0\n",
    "print(\"{\")\n",
    "for key, value in dict_purchases.items():\n",
    "    print(\"'{}' : '{}'\".format(key, value))\n",
    "    i += 1\n",
    "    if i == 20:\n",
    "        break\n",
    "print(\"...\") \n",
    "print(\"}\")"
   ]
  },
  {
   "cell_type": "markdown",
   "metadata": {},
   "source": [
    "**Задание 2.** \n",
    "\n",
    "1. Для каждого user_id в файле visit_log.csv определите третий столбец с категорией покупки (если покупка была, сам файл visit_log.csv изменять не надо). \n",
    "2. Запишите в файл funnel.csv визиты из файла visit_log.csv, в которых были покупки с указанием категории."
   ]
  },
  {
   "cell_type": "code",
   "execution_count": 4,
   "metadata": {},
   "outputs": [],
   "source": [
    "with open('visit_log.csv', 'r') as f_visits:\n",
    "    with open('funnel.csv', 'w') as f_funnel:\n",
    "       \n",
    "        for i, line in enumerate(f_visits):\n",
    "        \n",
    "            str_v = line.strip()\n",
    "\n",
    "            if i == 0:\n",
    "                f_funnel.write(str_v + \",category\" + \"\\n\")\n",
    "            else:\n",
    "                user_id_v = str_v.split(',')[0]\n",
    "                if user_id_v in dict_purchases.keys():\n",
    "                    f_funnel.write(str_v + \",\" + dict_purchases[user_id_v] + \"\\n\")"
   ]
  },
  {
   "cell_type": "code",
   "execution_count": 5,
   "metadata": {},
   "outputs": [
    {
     "name": "stdout",
     "output_type": "stream",
     "text": [
      "['user_id', 'source', 'category']\n",
      "['1840e0b9d4', 'other', 'Продукты']\n",
      "['4e4f90fcfb', 'context', 'Электроника']\n",
      "['afea8d72fc', 'other', 'Электроника']\n",
      "['2824221f38', 'email', 'Продукты']\n",
      "['373a6055fe', 'other', 'Бытовая техника']\n",
      "['9b2ab046f3', 'other', 'Электроника']\n",
      "['9f39d307c3', 'context', 'Электроника']\n",
      "['44edeffc91', 'context', 'Продукты']\n",
      "['704474fa2d', 'other', 'Продукты']\n",
      "['1de31be403', 'other', 'Бытовая техника']\n",
      "['5da0dedf13', 'context', 'Досуг']\n",
      "['b71f36a5e4', 'other', 'Продукты']\n",
      "['79843a685a', 'context', 'Продукты']\n",
      "['ff68cee0d6', 'context', 'Бытовая техника']\n",
      "['e8447c40e2', 'email', 'Досуг']\n",
      "['b9ef8fdf47', 'other', 'Продукты']\n",
      "['98d290be27', 'other', 'Электроника']\n",
      "['3fff459bda', 'other', 'Электроника']\n",
      "['fa0079a5a8', 'other', 'Досуг']\n",
      "['fdd6b2fc76', 'context', 'Бытовая техника']\n"
     ]
    }
   ],
   "source": [
    "with open('funnel.csv', 'r') as f_funnel:\n",
    "    for i, line in enumerate(f_funnel):\n",
    "        \n",
    "        print(line.strip().split(\",\"))\n",
    "        if i == 20:\n",
    "            break"
   ]
  },
  {
   "cell_type": "code",
   "execution_count": null,
   "metadata": {},
   "outputs": [],
   "source": []
  }
 ],
 "metadata": {
  "kernelspec": {
   "display_name": "Python 3",
   "language": "python",
   "name": "python3"
  },
  "language_info": {
   "codemirror_mode": {
    "name": "ipython",
    "version": 3
   },
   "file_extension": ".py",
   "mimetype": "text/x-python",
   "name": "python",
   "nbconvert_exporter": "python",
   "pygments_lexer": "ipython3",
   "version": "3.8.5"
  }
 },
 "nbformat": 4,
 "nbformat_minor": 4
}
