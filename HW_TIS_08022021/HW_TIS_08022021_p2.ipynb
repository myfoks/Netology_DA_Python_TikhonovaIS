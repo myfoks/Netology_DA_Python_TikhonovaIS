{
 "cells": [
  {
   "cell_type": "markdown",
   "metadata": {},
   "source": [
    "## Домашнее задание по блоку 08.02.2021. Управляющие конструкции и коллекции. Часть2\n",
    "### Тихонова Инна"
   ]
  },
  {
   "cell_type": "markdown",
   "metadata": {},
   "source": [
    "**Задание 1**\n",
    "\n",
    "Дана переменная, в которой хранится словарь, содержащий гео-метки для каждого пользователя. Вам необходимо написать программу, которая выведет на экран множество уникальных гео-меток всех пользователей."
   ]
  },
  {
   "cell_type": "code",
   "execution_count": 1,
   "metadata": {},
   "outputs": [],
   "source": [
    "def geo_unique(ids):\n",
    "    \n",
    "    geo_unique = []\n",
    "    \n",
    "    for geo_values in ids.values():\n",
    "        \n",
    "        for value in geo_values:\n",
    "            if value not in geo_unique:\n",
    "                geo_unique.append(value)\n",
    "    \n",
    "    print(geo_unique)"
   ]
  },
  {
   "cell_type": "code",
   "execution_count": 2,
   "metadata": {},
   "outputs": [],
   "source": [
    "ids = {'user1': [213, 213, 213, 15, 213],\n",
    "       'user2': [54, 54, 119, 119, 119],\n",
    "       'user3': [213, 98, 98, 35]}"
   ]
  },
  {
   "cell_type": "code",
   "execution_count": 3,
   "metadata": {},
   "outputs": [
    {
     "name": "stdout",
     "output_type": "stream",
     "text": [
      "[213, 15, 54, 119, 98, 35]\n"
     ]
    }
   ],
   "source": [
    "geo_unique(ids)"
   ]
  },
  {
   "cell_type": "markdown",
   "metadata": {},
   "source": [
    "**Задание 2**\n",
    "\n",
    "Дана переменная, в которой хранится список поисковых запросов пользователя. Вам необходимо написать программу, которая выведет на экран распределение количества слов в запросах в требуемом виде."
   ]
  },
  {
   "cell_type": "code",
   "execution_count": 4,
   "metadata": {},
   "outputs": [],
   "source": [
    "def count_words(queries):\n",
    "    \n",
    "    count_words = {}\n",
    "    \n",
    "    for query in queries:\n",
    "        \n",
    "        count = len(query.split(' '))\n",
    "        \n",
    "        if count in count_words.keys():\n",
    "            count_words[count] += 1\n",
    "        else:\n",
    "            count_words[count] = 1\n",
    "        \n",
    "    for key in count_words.keys():\n",
    "        print(\"Поисковых запросов, содержащих\", key, \"слов(а):\", round(count_words[key] / len(queries) * 100, 2), \"%\")"
   ]
  },
  {
   "cell_type": "code",
   "execution_count": 5,
   "metadata": {},
   "outputs": [],
   "source": [
    "queries = ['смотреть сериалы онлайн',\n",
    "           'новости спорта',\n",
    "           'афиша кино',\n",
    "           'курс доллара',\n",
    "           'сериалы этим летом',\n",
    "           'курс по питону',\n",
    "           'сериалы про спорт',\n",
    "          ]"
   ]
  },
  {
   "cell_type": "code",
   "execution_count": 6,
   "metadata": {},
   "outputs": [
    {
     "name": "stdout",
     "output_type": "stream",
     "text": [
      "Поисковых запросов, содержащих 3 слов(а): 57.14 %\n",
      "Поисковых запросов, содержащих 2 слов(а): 42.86 %\n"
     ]
    }
   ],
   "source": [
    "count_words(queries)"
   ]
  },
  {
   "cell_type": "markdown",
   "metadata": {},
   "source": [
    "**Задание 3**\n",
    "\n",
    "Дана переменная, в которой хранится информация о затратах и доходе рекламных кампаний по различным источникам. Необходимо дополнить исходную структуру показателем ROI, который рассчитаем по формуле: (revenue / cost - 1) * 100"
   ]
  },
  {
   "cell_type": "code",
   "execution_count": 7,
   "metadata": {},
   "outputs": [],
   "source": [
    "results = {'vk': {'revenue': 103, 'cost': 98},\n",
    "           'yandex': {'revenue': 179, 'cost': 153},\n",
    "           'facebook': {'revenue': 103, 'cost': 110},\n",
    "           'adwords': {'revenue': 35, 'cost': 34},\n",
    "           'twitter': {'revenue': 11, 'cost': 24},\n",
    "          }"
   ]
  },
  {
   "cell_type": "code",
   "execution_count": 8,
   "metadata": {},
   "outputs": [
    {
     "data": {
      "text/plain": [
       "{'adwords': {'ROI': 2.94, 'cost': 34, 'revenue': 35},\n",
       " 'facebook': {'ROI': -6.36, 'cost': 110, 'revenue': 103},\n",
       " 'twitter': {'ROI': -54.17, 'cost': 24, 'revenue': 11},\n",
       " 'vk': {'ROI': 5.1, 'cost': 98, 'revenue': 103},\n",
       " 'yandex': {'ROI': 16.99, 'cost': 153, 'revenue': 179}}"
      ]
     },
     "execution_count": 8,
     "metadata": {},
     "output_type": "execute_result"
    }
   ],
   "source": [
    "sorted_result = {}\n",
    "    \n",
    "for key in sorted(results):\n",
    "    sorted_result[key] = {'ROI': round((results[key]['revenue'] / results[key]['cost'] - 1) * 100, 2), \n",
    "                          'cost': results[key]['cost'],\n",
    "                          'revenue': results[key]['revenue']\n",
    "                          }\n",
    "        \n",
    "sorted_result"
   ]
  },
  {
   "cell_type": "markdown",
   "metadata": {},
   "source": [
    "**Задание 4**\n",
    "\n",
    "Дана переменная, в которой хранится статистика рекламных каналов по объемам продаж. Напишите программу, которая возвращает название канала с максимальным объемом продаж."
   ]
  },
  {
   "cell_type": "code",
   "execution_count": 9,
   "metadata": {},
   "outputs": [],
   "source": [
    "def max_stat(stats):\n",
    "    \n",
    "    max_stat_key = ''\n",
    "    max_stat_value = -1\n",
    "    \n",
    "    for key, value in stats.items():\n",
    "        if value > max_stat_value:\n",
    "            max_stat_key = key\n",
    "            max_stat_value = value\n",
    "    print(\"Максимальный объем продаж на рекламном канале:\", max_stat_key)"
   ]
  },
  {
   "cell_type": "code",
   "execution_count": 10,
   "metadata": {},
   "outputs": [],
   "source": [
    "stats = {'facebook': 55, \n",
    "         'yandex': 115, \n",
    "         'vk': 120, \n",
    "         'google': 99, \n",
    "         'email': 42, \n",
    "         'ok': 98}"
   ]
  },
  {
   "cell_type": "code",
   "execution_count": 11,
   "metadata": {},
   "outputs": [
    {
     "name": "stdout",
     "output_type": "stream",
     "text": [
      "Максимальный объем продаж на рекламном канале: vk\n"
     ]
    }
   ],
   "source": [
    "max_stat(stats)"
   ]
  },
  {
   "cell_type": "markdown",
   "metadata": {},
   "source": [
    "**Задание 5 (необязательно)**\n",
    "\n",
    "Дан список произвольной длины. Необходимо написать код, который на основе исходного списка составит словарь такого уровня вложенности, какова длина исходного списка."
   ]
  },
  {
   "cell_type": "code",
   "execution_count": 12,
   "metadata": {},
   "outputs": [],
   "source": [
    "def recursive_add(my_list):\n",
    "    \n",
    "    if len(my_list) == 0:\n",
    "        return True #если в списке всего один элемент, то словарь из такого списка будет неполноценным, добавим ему value=True\n",
    "    elif len(my_list) == 1:\n",
    "        return my_list[0]\n",
    "    else:        \n",
    "        first, *_ = my_list\n",
    "        my_dict = {}\n",
    "        my_dict[first] = recursive_add(_)\n",
    "        return my_dict \n",
    "    \n",
    "\n",
    "def create_dict(my_list):\n",
    "    \n",
    "    my_dict = {}\n",
    "    first, *_ = my_list\n",
    "    \n",
    "    my_dict[first] = recursive_add(_)\n",
    "    print(my_dict)"
   ]
  },
  {
   "cell_type": "code",
   "execution_count": 13,
   "metadata": {},
   "outputs": [
    {
     "name": "stdout",
     "output_type": "stream",
     "text": [
      "{'2018-01-01': {'yandex': {'cpc': 100}}}\n"
     ]
    }
   ],
   "source": [
    "my_list = ['2018-01-01', 'yandex', 'cpc', 100]\n",
    "create_dict(my_list)"
   ]
  },
  {
   "cell_type": "code",
   "execution_count": 14,
   "metadata": {},
   "outputs": [
    {
     "name": "stdout",
     "output_type": "stream",
     "text": [
      "{'a': {'b': {'c': {'d': {'e': 'f'}}}}}\n"
     ]
    }
   ],
   "source": [
    "my_list = ['a', 'b', 'c', 'd', 'e', 'f']\n",
    "create_dict(my_list)"
   ]
  },
  {
   "cell_type": "code",
   "execution_count": 15,
   "metadata": {},
   "outputs": [
    {
     "name": "stdout",
     "output_type": "stream",
     "text": [
      "{'a': True}\n"
     ]
    }
   ],
   "source": [
    "my_list = ['a']\n",
    "create_dict(my_list)"
   ]
  },
  {
   "cell_type": "markdown",
   "metadata": {},
   "source": [
    "**Задание 6 (необязательно)**\n",
    "\n",
    "Дана книга рецептов с информацией о том, сколько ингредиентов нужно для приготовления блюда в расчете на одну порцию.\n",
    "Напишите программу, которая будет запрашивать у пользователя количество порций для приготовления этих блюд и отображать информацию о суммарном количестве требуемых ингредиентов в указанном виде."
   ]
  },
  {
   "cell_type": "code",
   "execution_count": 16,
   "metadata": {},
   "outputs": [],
   "source": [
    "cook_book = {'салат': [{'ingridient_name': 'сыр', 'quantity': 50, 'measure': 'гр'},\n",
    "                       {'ingridient_name': 'томаты', 'quantity': 2, 'measure': 'шт'},\n",
    "                       {'ingridient_name': 'огурцы', 'quantity': 20, 'measure': 'гр'},\n",
    "                       {'ingridient_name': 'маслины', 'quantity': 10, 'measure': 'гр'},\n",
    "                       {'ingridient_name': 'оливковое масло', 'quantity': 20, 'measure': 'мл'},\n",
    "                       {'ingridient_name': 'салат', 'quantity': 10, 'measure': 'гр'},\n",
    "                       {'ingridient_name': 'перец', 'quantity': 20, 'measure': 'гр'}\n",
    "                      ],\n",
    "             'пицца': [{'ingridient_name': 'сыр', 'quantity': 20, 'measure': 'гр'},\n",
    "                       {'ingridient_name': 'колбаса', 'quantity': 30, 'measure': 'гр'},\n",
    "                       {'ingridient_name': 'бекон', 'quantity': 30, 'measure': 'гр'},\n",
    "                       {'ingridient_name': 'оливки', 'quantity': 10, 'measure': 'гр'},\n",
    "                       {'ingridient_name': 'томаты', 'quantity': 20, 'measure': 'гр'},\n",
    "                       {'ingridient_name': 'тесто', 'quantity': 100, 'measure': 'гр'},\n",
    "                      ],\n",
    "             'лимонад': [{'ingridient_name': 'лимон', 'quantity': 1, 'measure': 'шт'},\n",
    "                         {'ingridient_name': 'вода', 'quantity': 200, 'measure': 'мл'},\n",
    "                         {'ingridient_name': 'сахар', 'quantity': 10, 'measure': 'гр'},\n",
    "                         {'ingridient_name': 'лайм', 'quantity': 20, 'measure': 'гр'},\n",
    "                        ]\n",
    "            }"
   ]
  },
  {
   "cell_type": "code",
   "execution_count": 17,
   "metadata": {},
   "outputs": [],
   "source": [
    "def sum_quantity(cook_book, portions):\n",
    "    \n",
    "    sum_quantity = {}\n",
    "\n",
    "    for dish_key, dish_value in cook_book.items():\n",
    "\n",
    "        for i in range(len(dish_value)):\n",
    "            ingr_name = dish_value[i]['ingridient_name'].capitalize()\n",
    "            len_ingr_name = len(ingr_name.split(' '))\n",
    "\n",
    "            if len_ingr_name > 1:\n",
    "                temp_list = ingr_name.split(' ')\n",
    "                for j in range(len_ingr_name):\n",
    "                    temp_list[j] = temp_list[j].capitalize()\n",
    "                ingr_name = ' '.join(temp_list)            \n",
    "\n",
    "            ingr_quan = dish_value[i]['quantity']\n",
    "            ingr_meas = dish_value[i]['measure']\n",
    "\n",
    "            ingr_name_meas = ingr_name + ' ' + ingr_meas\n",
    "\n",
    "            if ingr_name_meas not in sum_quantity.keys():\n",
    "                sum_quantity[ingr_name_meas] = {'ingridient_name': ingr_name, \n",
    "                                                'quantity': ingr_quan * portions, \n",
    "                                                'measure': ingr_meas}\n",
    "            else:\n",
    "                sum_quantity[ingr_name_meas]['quantity'] += ingr_quan * portions\n",
    "\n",
    "    for ingr_name_meas, ingr_value in sum_quantity.items():\n",
    "        print(ingr_value['ingridient_name'] + \": \" + str(ingr_value['quantity']) + \" \" + ingr_value['measure'])"
   ]
  },
  {
   "cell_type": "code",
   "execution_count": 18,
   "metadata": {},
   "outputs": [
    {
     "name": "stdout",
     "output_type": "stream",
     "text": [
      "Введите количество порций: 3\n",
      "Сыр: 210 гр\n",
      "Томаты: 6 шт\n",
      "Огурцы: 60 гр\n",
      "Маслины: 30 гр\n",
      "Оливковое Масло: 60 мл\n",
      "Салат: 30 гр\n",
      "Перец: 60 гр\n",
      "Колбаса: 90 гр\n",
      "Бекон: 90 гр\n",
      "Оливки: 30 гр\n",
      "Томаты: 60 гр\n",
      "Тесто: 300 гр\n",
      "Лимон: 3 шт\n",
      "Вода: 600 мл\n",
      "Сахар: 30 гр\n",
      "Лайм: 60 гр\n"
     ]
    }
   ],
   "source": [
    "portions = int(input(\"Введите количество порций: \"))\n",
    "sum_quantity(cook_book, portions)"
   ]
  },
  {
   "cell_type": "code",
   "execution_count": null,
   "metadata": {},
   "outputs": [],
   "source": []
  }
 ],
 "metadata": {
  "kernelspec": {
   "display_name": "Python 3",
   "language": "python",
   "name": "python3"
  },
  "language_info": {
   "codemirror_mode": {
    "name": "ipython",
    "version": 3
   },
   "file_extension": ".py",
   "mimetype": "text/x-python",
   "name": "python",
   "nbconvert_exporter": "python",
   "pygments_lexer": "ipython3",
   "version": "3.8.5"
  }
 },
 "nbformat": 4,
 "nbformat_minor": 4
}
