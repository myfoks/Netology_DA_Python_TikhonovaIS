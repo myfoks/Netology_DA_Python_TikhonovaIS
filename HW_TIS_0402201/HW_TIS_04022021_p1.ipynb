{
 "cells": [
  {
   "cell_type": "markdown",
   "metadata": {},
   "source": [
    "## Домашнее задание по блоку 04.02.2021. Управляющие конструкции и коллекции. Часть1\n",
    "### Тихонова Инна"
   ]
  },
  {
   "cell_type": "markdown",
   "metadata": {},
   "source": [
    "**Задание 1**\n",
    "\n",
    "Дана переменная, в которой хранится слово из латинских букв. Напишите код, который выводит на экран:\n",
    "\n",
    " - среднюю букву, если число букв в слове нечетное;\n",
    " - две средних буквы, если число букв четное."
   ]
  },
  {
   "cell_type": "code",
   "execution_count": 1,
   "metadata": {},
   "outputs": [],
   "source": [
    "def word_print(word):\n",
    "    \n",
    "    len_word = len(word)\n",
    "    \n",
    "    if len_word % 2 == 1:\n",
    "        print(word[len_word // 2])\n",
    "    else:\n",
    "        print(word[(len_word // 2 - 1):(len_word // 2 + 1)])"
   ]
  },
  {
   "cell_type": "code",
   "execution_count": 2,
   "metadata": {},
   "outputs": [
    {
     "name": "stdout",
     "output_type": "stream",
     "text": [
      "es\n"
     ]
    }
   ],
   "source": [
    "word = 'test'\n",
    "word_print(word)"
   ]
  },
  {
   "cell_type": "code",
   "execution_count": 3,
   "metadata": {},
   "outputs": [
    {
     "name": "stdout",
     "output_type": "stream",
     "text": [
      "t\n"
     ]
    }
   ],
   "source": [
    "word = 'testing'\n",
    "word_print(word)"
   ]
  },
  {
   "cell_type": "markdown",
   "metadata": {},
   "source": [
    "**Задание 2**\n",
    "\n",
    "Напишите программу, которая последовательно запрашивает у пользователя числа (по одному за раз) и после первого нуля выводит сумму всех ранее введенных чисел."
   ]
  },
  {
   "cell_type": "code",
   "execution_count": 4,
   "metadata": {},
   "outputs": [],
   "source": [
    "def print_sum():\n",
    "    sum_num = 0\n",
    "    i = -1\n",
    "    while i != 0: \n",
    "        i = int(input(\"Введите число: \"))\n",
    "        sum_num += i\n",
    "\n",
    "    print(\"Результат:\", sum_num)    "
   ]
  },
  {
   "cell_type": "code",
   "execution_count": 5,
   "metadata": {},
   "outputs": [
    {
     "name": "stdout",
     "output_type": "stream",
     "text": [
      "Введите число: 1\n",
      "Введите число: 4\n",
      "Введите число: 6\n",
      "Введите число: 0\n",
      "Результат: 11\n"
     ]
    }
   ],
   "source": [
    "print_sum()"
   ]
  },
  {
   "cell_type": "code",
   "execution_count": 6,
   "metadata": {},
   "outputs": [
    {
     "name": "stdout",
     "output_type": "stream",
     "text": [
      "Введите число: 0\n",
      "Результат: 0\n"
     ]
    }
   ],
   "source": [
    "print_sum()"
   ]
  },
  {
   "cell_type": "markdown",
   "metadata": {},
   "source": [
    "**Задание 3**\n",
    "\n",
    "Мы делаем MVP dating-сервиса, и у нас есть список парней и девушек.\n",
    "Выдвигаем гипотезу: лучшие рекомендации мы получим, если просто отсортируем имена по алфавиту и познакомим людей с одинаковыми индексами после сортировки! Но мы не будем никого знакомить, если кто-то может остаться без пары:"
   ]
  },
  {
   "cell_type": "code",
   "execution_count": 7,
   "metadata": {},
   "outputs": [],
   "source": [
    "def dating(boys, girls):\n",
    "    \n",
    "    if len(boys) == len(girls):\n",
    "        \n",
    "        boys = sorted(boys)\n",
    "        girls = sorted(girls)\n",
    "        \n",
    "        print(\"Идеальные пары:\")\n",
    "        \n",
    "        for i in range(len(boys)):\n",
    "            print(boys[i], 'и', girls[i])\n",
    "        \n",
    "    else:\n",
    "        return(\"Внимание, кто-то может остаться без пары!\")"
   ]
  },
  {
   "cell_type": "code",
   "execution_count": 8,
   "metadata": {},
   "outputs": [
    {
     "name": "stdout",
     "output_type": "stream",
     "text": [
      "Идеальные пары:\n",
      "Alex и Emma\n",
      "Arthur и Kate\n",
      "John и Kira\n",
      "Peter и Liza\n",
      "Richard и Trisha\n"
     ]
    }
   ],
   "source": [
    "boys = ['Peter', 'Alex', 'John', 'Arthur', 'Richard'] \n",
    "girls = ['Kate', 'Liza', 'Kira', 'Emma', 'Trisha']\n",
    "\n",
    "dating(boys, girls)"
   ]
  },
  {
   "cell_type": "code",
   "execution_count": 9,
   "metadata": {},
   "outputs": [
    {
     "data": {
      "text/plain": [
       "'Внимание, кто-то может остаться без пары!'"
      ]
     },
     "execution_count": 9,
     "metadata": {},
     "output_type": "execute_result"
    }
   ],
   "source": [
    "boys = ['Peter', 'Alex', 'John', 'Arthur', 'Richard', 'Michael'] \n",
    "girls = ['Kate', 'Liza', 'Kira', 'Emma', 'Trisha']\n",
    "\n",
    "dating(boys, girls)"
   ]
  },
  {
   "cell_type": "markdown",
   "metadata": {},
   "source": [
    "**Задание 4**\n",
    "\n",
    "У нас есть список, содержащий информацию о среднедневной температуре в Фаренгейтах за произвольный период по странам (структура данных в примере). Необходимо написать код, который рассчитает среднюю температуру за период в Цельсиях(!) для каждой страны."
   ]
  },
  {
   "cell_type": "code",
   "execution_count": 10,
   "metadata": {},
   "outputs": [],
   "source": [
    "def temp_mean(countries_temperature):\n",
    "    \n",
    "    print(\"Средняя температура в странах:\")\n",
    "    \n",
    "    for country_temp in countries_temperature:\n",
    "        \n",
    "        temp_mean_f = sum(country_temp[1]) / len(country_temp[1])\n",
    "        temp_mean = round(5 * (temp_mean_f - 32) / 9, 1)\n",
    "        \n",
    "        print(country_temp[0], '-', temp_mean, 'С')"
   ]
  },
  {
   "cell_type": "code",
   "execution_count": 11,
   "metadata": {},
   "outputs": [
    {
     "name": "stdout",
     "output_type": "stream",
     "text": [
      "Средняя температура в странах:\n",
      "Thailand - 23.9 С\n",
      "Germany - 13.8 С\n",
      "Russia - 3.7 С\n",
      "Poland - 12.0 С\n"
     ]
    }
   ],
   "source": [
    "countries_temperature = [['Thailand', [75.2, 77, 78.8, 73.4, 68, 75.2, 77]], \n",
    "                         ['Germany', [57.2, 55.4, 59, 59, 53.6]], \n",
    "                         ['Russia', [35.6, 37.4, 39.2, 41, 42.8, 39.2, 35.6]], \n",
    "                         ['Poland', [50, 50, 53.6, 57.2, 55.4, 55.4]]]\n",
    "\n",
    "temp_mean(countries_temperature)"
   ]
  },
  {
   "cell_type": "markdown",
   "metadata": {},
   "source": [
    "**Задание 5 (необязательное)** \n",
    "\n",
    "Дан поток логов по количеству просмотренных страниц для каждого пользователя. Вам необходимо написать алгоритм, который считает среднее значение просмотров на пользователя. Т. е. надо посчитать отношение суммы всех просмотров к количеству уникальных пользователей."
   ]
  },
  {
   "cell_type": "code",
   "execution_count": 12,
   "metadata": {},
   "outputs": [],
   "source": [
    "def stream_mean(stream):\n",
    "    \n",
    "    count_user = 0\n",
    "    sum_view = 0\n",
    "    users = []\n",
    "\n",
    "    for stream_i in stream:\n",
    "\n",
    "        list_i = stream_i.split(',')\n",
    "        sum_view += int(list_i[2])\n",
    "\n",
    "        if list_i[1] in users:\n",
    "            continue\n",
    "\n",
    "        users.append(list_i[1])\n",
    "        count_user += 1\n",
    "\n",
    "    print(\"Среднее количество просмотров на уникального пользователя:\", round(sum_view / count_user, 2))    "
   ]
  },
  {
   "cell_type": "code",
   "execution_count": 13,
   "metadata": {},
   "outputs": [
    {
     "name": "stdout",
     "output_type": "stream",
     "text": [
      "Среднее количество просмотров на уникального пользователя: 23.25\n"
     ]
    }
   ],
   "source": [
    "stream = ['2018-01-01,user1,3', \n",
    "          '2018-01-07,user1,4', \n",
    "          '2018-03-29,user1,1', \n",
    "          '2018-04-04,user1,13', \n",
    "          '2018-01-05,user2,7', \n",
    "          '2018-06-14,user3,4', \n",
    "          '2018-07-02,user3,10', \n",
    "          '2018-03-21,user4,19', \n",
    "          '2018-03-22,user4,4', \n",
    "          '2018-04-22,user4,8', \n",
    "          '2018-05-03,user4,9', \n",
    "          '2018-05-11,user4,11',] \n",
    "\n",
    "stream_mean(stream)"
   ]
  },
  {
   "cell_type": "code",
   "execution_count": 14,
   "metadata": {},
   "outputs": [
    {
     "name": "stdout",
     "output_type": "stream",
     "text": [
      "Среднее количество просмотров на уникального пользователя: 145.33\n"
     ]
    }
   ],
   "source": [
    "stream = ['2018-01-01,user100,150', \n",
    "          '2018-01-07,user99,205', \n",
    "          '2018-03-29,user1001,81'] \n",
    "\n",
    "stream_mean(stream)"
   ]
  },
  {
   "cell_type": "markdown",
   "metadata": {},
   "source": [
    "**Задание 6 (необязательное)**\n",
    "\n",
    "Необходимо у пользователя запрашивать набор чисел, разделенных пробелом. В результате должны выводиться числа, которые повторяются в вводе более одного раза."
   ]
  },
  {
   "cell_type": "code",
   "execution_count": 15,
   "metadata": {},
   "outputs": [],
   "source": [
    "def more_one(numbers):\n",
    "    \n",
    "    input_list = numbers.split(' ')\n",
    "    unique_list = []\n",
    "    not_unique_list = []\n",
    "    \n",
    "    for inp_i in input_list:\n",
    "        \n",
    "        int_inp_i = int(inp_i)\n",
    "        \n",
    "        if int_inp_i not in unique_list:\n",
    "            unique_list.append(int_inp_i)\n",
    "        else:\n",
    "            if int_inp_i not in not_unique_list:\n",
    "                not_unique_list.append(int_inp_i)\n",
    "            \n",
    "    print(sorted(not_unique_list))"
   ]
  },
  {
   "cell_type": "code",
   "execution_count": 16,
   "metadata": {},
   "outputs": [
    {
     "name": "stdout",
     "output_type": "stream",
     "text": [
      "Введите числа: 4 8 0 3 4 2 0 3\n",
      "[0, 3, 4]\n"
     ]
    }
   ],
   "source": [
    "numbers = input(\"Введите числа: \")\n",
    "more_one(numbers)"
   ]
  },
  {
   "cell_type": "code",
   "execution_count": 17,
   "metadata": {},
   "outputs": [
    {
     "name": "stdout",
     "output_type": "stream",
     "text": [
      "Введите числа: 1 1 2 2 3 3\n",
      "[1, 2, 3]\n"
     ]
    }
   ],
   "source": [
    "numbers = input(\"Введите числа: \")\n",
    "more_one(numbers)"
   ]
  },
  {
   "cell_type": "code",
   "execution_count": 18,
   "metadata": {},
   "outputs": [
    {
     "name": "stdout",
     "output_type": "stream",
     "text": [
      "Введите числа: 1 1 1 1 1 2 2 2\n",
      "[1, 2]\n"
     ]
    }
   ],
   "source": [
    "numbers = input(\"Введите числа: \")\n",
    "more_one(numbers)"
   ]
  },
  {
   "cell_type": "code",
   "execution_count": null,
   "metadata": {},
   "outputs": [],
   "source": []
  }
 ],
 "metadata": {
  "kernelspec": {
   "display_name": "Python 3",
   "language": "python",
   "name": "python3"
  },
  "language_info": {
   "codemirror_mode": {
    "name": "ipython",
    "version": 3
   },
   "file_extension": ".py",
   "mimetype": "text/x-python",
   "name": "python",
   "nbconvert_exporter": "python",
   "pygments_lexer": "ipython3",
   "version": "3.8.5"
  }
 },
 "nbformat": 4,
 "nbformat_minor": 4
}
