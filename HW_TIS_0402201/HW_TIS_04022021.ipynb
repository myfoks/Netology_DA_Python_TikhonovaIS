{
 "cells": [
  {
   "cell_type": "markdown",
   "metadata": {},
   "source": [
    "## Домашнее задание по блоку 04.02.2021. Основы Python\n",
    "### Тихонова Инна"
   ]
  },
  {
   "cell_type": "markdown",
   "metadata": {},
   "source": [
    "**Задание 1**\n",
    "\n",
    "Даны 2 переменных, в которых хранятся строки произвольной длины: phrase_1 и phrase_2.\n",
    "Напишите код, который проверяет какая из этих строк длиннее."
   ]
  },
  {
   "cell_type": "code",
   "execution_count": 1,
   "metadata": {},
   "outputs": [],
   "source": [
    "def compare_strings(string1, string2):\n",
    "    if len(string1) < len(string2):\n",
    "        return \"Фраза 2 длиннее фразы 1\"\n",
    "    elif len(string1) > len(string2):\n",
    "        return \"Фраза 1 длиннее фразы 2\"\n",
    "    else:\n",
    "        return \"Фразы равной длины\""
   ]
  },
  {
   "cell_type": "code",
   "execution_count": 2,
   "metadata": {},
   "outputs": [
    {
     "data": {
      "text/plain": [
       "'Фраза 1 длиннее фразы 2'"
      ]
     },
     "execution_count": 2,
     "metadata": {},
     "output_type": "execute_result"
    }
   ],
   "source": [
    "phrase_1 = 'Насколько проще было бы писать программы, если бы не заказчики'\n",
    "phrase_2 = '640Кб должно хватить для любых задач. Билл Гейтс (по легенде)'\n",
    "\n",
    "compare_strings(phrase_1, phrase_2)"
   ]
  },
  {
   "cell_type": "code",
   "execution_count": 3,
   "metadata": {},
   "outputs": [
    {
     "data": {
      "text/plain": [
       "'Фраза 2 длиннее фразы 1'"
      ]
     },
     "execution_count": 3,
     "metadata": {},
     "output_type": "execute_result"
    }
   ],
   "source": [
    "phrase_1 = '640Кб должно хватить для любых задач. Билл Гейтс (по легенде)'\n",
    "phrase_2 = 'Насколько проще было бы писать программы, если бы не заказчики'\n",
    "\n",
    "compare_strings(phrase_1, phrase_2)"
   ]
  },
  {
   "cell_type": "code",
   "execution_count": 4,
   "metadata": {},
   "outputs": [
    {
     "data": {
      "text/plain": [
       "'Фразы равной длины'"
      ]
     },
     "execution_count": 4,
     "metadata": {},
     "output_type": "execute_result"
    }
   ],
   "source": [
    "phrase_1 = 'Насколько проще было бы писать программы, если бы не заказчики'\n",
    "phrase_2 = 'Насколько проще было бы писать программы, если бы не заказчики'\n",
    "\n",
    "compare_strings(phrase_1, phrase_2)"
   ]
  },
  {
   "cell_type": "markdown",
   "metadata": {},
   "source": [
    "**Задание 2**\n",
    "\n",
    "Дана переменная, в которой хранится четырехзначное число (год). Необходимо написать программу, которая выведет, является ли данный год високосным или обычным."
   ]
  },
  {
   "cell_type": "code",
   "execution_count": 5,
   "metadata": {},
   "outputs": [],
   "source": [
    "def what_year(year):\n",
    "    if year % 4 == 0:\n",
    "        return \"Високосный год\"\n",
    "    else:\n",
    "        return \"Обычный год\""
   ]
  },
  {
   "cell_type": "code",
   "execution_count": 6,
   "metadata": {},
   "outputs": [
    {
     "data": {
      "text/plain": [
       "'Високосный год'"
      ]
     },
     "execution_count": 6,
     "metadata": {},
     "output_type": "execute_result"
    }
   ],
   "source": [
    "year = 2020\n",
    "what_year(year)"
   ]
  },
  {
   "cell_type": "code",
   "execution_count": 7,
   "metadata": {},
   "outputs": [
    {
     "data": {
      "text/plain": [
       "'Обычный год'"
      ]
     },
     "execution_count": 7,
     "metadata": {},
     "output_type": "execute_result"
    }
   ],
   "source": [
    "year = 2019\n",
    "what_year(year)"
   ]
  },
  {
   "cell_type": "markdown",
   "metadata": {},
   "source": [
    "**Задание 3**\n",
    "\n",
    "Необходимо написать программу, которая будет запрашивать у пользователя месяц и дату рождения и выводить соответствующий знак зодиака."
   ]
  },
  {
   "cell_type": "code",
   "execution_count": 8,
   "metadata": {},
   "outputs": [],
   "source": [
    "def zodiac(day, month):\n",
    "    \n",
    "    import datetime\n",
    "    date_zodiac = datetime.date(2020, month, day) # 2020 - високосный год, используем его, чтобы охватить все дни года\n",
    "    \n",
    "    if date_zodiac >= datetime.date(2020, 12, 20) or date_zodiac <= datetime.date(2020, 1, 20):\n",
    "        return \"Козерог\"\n",
    "    elif date_zodiac >= datetime.date(2020, 1, 21) and date_zodiac <= datetime.date(2020, 2, 19):\n",
    "        return \"Водолей\"\n",
    "    elif date_zodiac >= datetime.date(2020, 2, 20) and date_zodiac <= datetime.date(2020, 3, 20):\n",
    "        return \"Рыбы\"\n",
    "    elif date_zodiac >= datetime.date(2020, 3, 21) and date_zodiac <= datetime.date(2020, 4, 20):\n",
    "        return \"Овен\"\n",
    "    elif date_zodiac >= datetime.date(2020, 4, 21) and date_zodiac <= datetime.date(2020, 5, 21):\n",
    "        return \"Телец\"\n",
    "    elif date_zodiac >= datetime.date(2020, 5, 22) and date_zodiac <= datetime.date(2020, 6, 21):\n",
    "        return \"Близнецы\"\n",
    "    elif date_zodiac >= datetime.date(2020, 6, 22) and date_zodiac <= datetime.date(2020, 7, 23):\n",
    "        return \"Рак\"\n",
    "    elif date_zodiac >= datetime.date(2020, 7, 24) and date_zodiac <= datetime.date(2020, 8, 23):\n",
    "        return \"Лев\"\n",
    "    elif date_zodiac >= datetime.date(2020, 8, 24) and date_zodiac <= datetime.date(2020, 9, 23):\n",
    "        return \"Дева\"\n",
    "    elif date_zodiac >= datetime.date(2020, 9, 24) and date_zodiac <= datetime.date(2020, 10, 23):\n",
    "        return \"Весы\"\n",
    "    elif date_zodiac >= datetime.date(2020, 10, 24) and date_zodiac <= datetime.date(2020, 11, 22):\n",
    "        return \"Скорпион\"\n",
    "    elif date_zodiac >= datetime.date(2020, 11, 23) and date_zodiac <= datetime.date(2020, 12, 21):\n",
    "        return \"Стрелец\"\n",
    "    else:\n",
    "        return \"Error\""
   ]
  },
  {
   "cell_type": "code",
   "execution_count": 9,
   "metadata": {},
   "outputs": [
    {
     "name": "stdout",
     "output_type": "stream",
     "text": [
      "Введите число - день вашего рождения: 30\n",
      "Введите число - номер месяца вашего рождения: 8\n",
      "Дева\n"
     ]
    }
   ],
   "source": [
    "day = int(input(\"Введите число - день вашего рождения: \"))\n",
    "month = int(input(\"Введите число - номер месяца вашего рождения: \"))\n",
    "    \n",
    "print(zodiac(day, month))"
   ]
  },
  {
   "cell_type": "code",
   "execution_count": 10,
   "metadata": {},
   "outputs": [
    {
     "name": "stdout",
     "output_type": "stream",
     "text": [
      "Введите число - день вашего рождения: 29\n",
      "Введите число - номер месяца вашего рождения: 10\n",
      "Скорпион\n"
     ]
    }
   ],
   "source": [
    "day = int(input(\"Введите число - день вашего рождения: \"))\n",
    "month = int(input(\"Введите число - номер месяца вашего рождения: \"))\n",
    "    \n",
    "print(zodiac(day, month))"
   ]
  },
  {
   "cell_type": "code",
   "execution_count": 11,
   "metadata": {},
   "outputs": [
    {
     "name": "stdout",
     "output_type": "stream",
     "text": [
      "Введите число - день вашего рождения: 31\n",
      "Введите число - номер месяца вашего рождения: 12\n",
      "Козерог\n"
     ]
    }
   ],
   "source": [
    "day = int(input(\"Введите число - день вашего рождения: \"))\n",
    "month = int(input(\"Введите число - номер месяца вашего рождения: \"))\n",
    "    \n",
    "print(zodiac(day, month))"
   ]
  },
  {
   "cell_type": "markdown",
   "metadata": {},
   "source": [
    "**Задание 4**\n",
    "\n",
    "Вам нужно написать программу для подбора упаковок по размерам товара. Размеры хранятся в переменных (в сантиметрах):\n",
    "\n",
    " - width = 10 \n",
    " - length = 205\n",
    " - height = 5\n",
    " \n",
    "Используйте следующие правила:\n",
    "\n",
    "1. Если каждое из трех измерений менее 15 сантиметров, то выведите на экран “Коробка №1”;\n",
    "2. Если хотя бы одно из измерений больше 15 сантиметров, но менее 50 сантиметров, то выводите “Коробка №2”;\n",
    "3. Если длина товара больше 2 метров, то выводите “Упаковка для лыж”;\n",
    "4. Во всех остальных случаях выводите “Стандартная коробка №3”."
   ]
  },
  {
   "cell_type": "code",
   "execution_count": 12,
   "metadata": {},
   "outputs": [
    {
     "data": {
      "text/plain": [
       "'Упаковка для лыж'"
      ]
     },
     "execution_count": 12,
     "metadata": {},
     "output_type": "execute_result"
    }
   ],
   "source": [
    "width = 10\n",
    "length = 205\n",
    "height = 5\n",
    "\n",
    "def choose_box(width, length, height):\n",
    "    \n",
    "    if width <= 15 and length <= 15 and height <= 15:\n",
    "        return \"Коробка №1\"\n",
    "    elif (width > 15 and width <= 50) or (length > 15 and length <= 50) or (height > 15 and height <= 50):\n",
    "        return \"Коробка №2\"\n",
    "    elif length >= 200:\n",
    "        return \"Упаковка для лыж\"\n",
    "    else:\n",
    "        return \"Стандартная коробка №3\"\n",
    "    \n",
    "\n",
    "choose_box(width, length, height)"
   ]
  },
  {
   "cell_type": "markdown",
   "metadata": {},
   "source": [
    "**Задание 5 (необязательное)**\n",
    "\n",
    "Дана переменная, в которой хранится шестизначное число (номер проездного билета). Напишите программу, которая будет определять, является ли данный билет “счастливым”. Билет считается счастливым, если сумма первых трех цифр совпадает с суммой последних трех цифр номера."
   ]
  },
  {
   "cell_type": "code",
   "execution_count": 13,
   "metadata": {},
   "outputs": [],
   "source": [
    "def happy(number):\n",
    "    \n",
    "    left = 0\n",
    "    right = 0\n",
    "    \n",
    "    for i in range(6):\n",
    "        if i < 3:\n",
    "            left += number // (10 ** (6 - i - 1)) % 10\n",
    "        else:\n",
    "            right += number // (10 ** (6 - i - 1)) % 10  \n",
    "    \n",
    "    if left == right:\n",
    "        return \"Счастливый билет\"\n",
    "    else:\n",
    "        return \"Несчастливый билет\""
   ]
  },
  {
   "cell_type": "code",
   "execution_count": 14,
   "metadata": {},
   "outputs": [
    {
     "data": {
      "text/plain": [
       "'Несчастливый билет'"
      ]
     },
     "execution_count": 14,
     "metadata": {},
     "output_type": "execute_result"
    }
   ],
   "source": [
    "number = 123456\n",
    "happy(number)"
   ]
  },
  {
   "cell_type": "code",
   "execution_count": 15,
   "metadata": {},
   "outputs": [
    {
     "data": {
      "text/plain": [
       "'Счастливый билет'"
      ]
     },
     "execution_count": 15,
     "metadata": {},
     "output_type": "execute_result"
    }
   ],
   "source": [
    "number = 123321\n",
    "happy(number)"
   ]
  },
  {
   "cell_type": "markdown",
   "metadata": {},
   "source": [
    "**Задание 6 (необязательное)**\n",
    "\n",
    "Напишите программу, которая сможет вычислять площади трех фигур (круг, треугольник и прямоугольник). Тип фигуры запрашиваем через пользовательский ввод, после чего делаем запрос характеристик фигуры:\n",
    "\n",
    "1. Если пользователь выбрал круг, запрашиваем его радиус,\n",
    "2. Если треугольник – длины трех его сторон;\n",
    "3. Если прямоугольник – длины двух его сторон."
   ]
  },
  {
   "cell_type": "code",
   "execution_count": 16,
   "metadata": {},
   "outputs": [],
   "source": [
    "def square(type_f):\n",
    "    \n",
    "    if type_f.lower() == 'круг':\n",
    "        \n",
    "        radius = int(input(\"Введите радиус круга:\"))\n",
    "        return round(radius * radius * 3.1416, 2)\n",
    "    \n",
    "    elif type_f.lower() == 'треугольник':\n",
    "        a = int(input(\"Введите длину стороны A:\"))\n",
    "        b = int(input(\"Введите длину стороны B:\"))\n",
    "        c = int(input(\"Введите длину стороны C:\"))\n",
    "        \n",
    "        p = (a + b + c) / 2\n",
    "        \n",
    "        return round((p * (p - a) * (p - b) * (p - c)) ** 0.5 ,2)\n",
    "        \n",
    "    elif type_f.lower() == 'прямоугольник': \n",
    "        \n",
    "        a = int(input(\"Введите длину стороны A:\"))\n",
    "        b = int(input(\"Введите длину стороны B:\"))\n",
    "        return round(a * b, 2)\n",
    "    "
   ]
  },
  {
   "cell_type": "code",
   "execution_count": 17,
   "metadata": {},
   "outputs": [
    {
     "name": "stdout",
     "output_type": "stream",
     "text": [
      "Введите тип фигуры: круг\n",
      "Введите радиус круга:10\n"
     ]
    },
    {
     "data": {
      "text/plain": [
       "314.16"
      ]
     },
     "execution_count": 17,
     "metadata": {},
     "output_type": "execute_result"
    }
   ],
   "source": [
    "type_f = input(\"Введите тип фигуры: \")\n",
    "square(type_f)"
   ]
  },
  {
   "cell_type": "code",
   "execution_count": 18,
   "metadata": {},
   "outputs": [
    {
     "name": "stdout",
     "output_type": "stream",
     "text": [
      "Введите тип фигуры: треугольник\n",
      "Введите длину стороны A:2\n",
      "Введите длину стороны B:2\n",
      "Введите длину стороны C:3\n"
     ]
    },
    {
     "data": {
      "text/plain": [
       "1.98"
      ]
     },
     "execution_count": 18,
     "metadata": {},
     "output_type": "execute_result"
    }
   ],
   "source": [
    "type_f = input(\"Введите тип фигуры: \")\n",
    "square(type_f)"
   ]
  }
 ],
 "metadata": {
  "kernelspec": {
   "display_name": "Python 3",
   "language": "python",
   "name": "python3"
  },
  "language_info": {
   "codemirror_mode": {
    "name": "ipython",
    "version": 3
   },
   "file_extension": ".py",
   "mimetype": "text/x-python",
   "name": "python",
   "nbconvert_exporter": "python",
   "pygments_lexer": "ipython3",
   "version": "3.8.5"
  }
 },
 "nbformat": 4,
 "nbformat_minor": 4
}
